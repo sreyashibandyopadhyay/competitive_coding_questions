{
  "nbformat": 4,
  "nbformat_minor": 0,
  "metadata": {
    "colab": {
      "name": "competitive_coding_60questions.ipynb",
      "provenance": [],
      "collapsed_sections": []
    },
    "kernelspec": {
      "name": "python3",
      "display_name": "Python 3"
    },
    "language_info": {
      "name": "python"
    }
  },
  "cells": [
    {
      "cell_type": "code",
      "metadata": {
        "id": "cUk6wQB2oq7V"
      },
      "source": [
        ""
      ],
      "execution_count": null,
      "outputs": []
    },
    {
      "cell_type": "markdown",
      "metadata": {
        "id": "zkrHs8EUpMgE"
      },
      "source": [
        "1.  Given a linked list which represents an integer number where each node is a digit of the represented integer. The task is to add a given digit N to the represented integer. Examples:\n",
        "\n",
        "Input: LL = 9 -> 9 -> 3 -> NULL, N = 7 Output: 1 -> 0 -> 0 -> 0 -> NULL 993 + 7 = 1000 Input: LL = 2 -> 9 -> 9 -> NULL, N = 5 Output: 3 -> 0 -> 4 -> NULL"
      ]
    },
    {
      "cell_type": "code",
      "metadata": {
        "colab": {
          "base_uri": "https://localhost:8080/"
        },
        "id": "j25kVZ4MpUPh",
        "outputId": "86f7702b-378a-4ea4-ef32-8e0e24460a14"
      },
      "source": [
        "# Python implementation of the approach\n",
        "\n",
        "# Node class contains value\n",
        "# and next node reference\n",
        "class ListNode:\n",
        "\tdef __init__(self, new_data):\n",
        "\t\tself.value = new_data\n",
        "\t\tself.next = None\n",
        "\n",
        "# To store the carry\n",
        "carry = 0\n",
        "\n",
        "# Function that calls the recursive method\n",
        "# addNewValue to add a digit to the\n",
        "# number represented as the linked list\n",
        "def addValue(head, addValue):\n",
        "\n",
        "\tglobal carry\n",
        "\t\n",
        "\t# Add the digit recursively\n",
        "\taddNewValue(head, addValue)\n",
        "\n",
        "\t# If there is a carry after the addition\n",
        "\tif (carry != 0) :\n",
        "\n",
        "\t\t# Create a node\n",
        "\t\tnewHead = ListNode(0)\n",
        "\n",
        "\t\t# Assign it with carry\n",
        "\t\tnewHead.value = carry\n",
        "\n",
        "\t\t# Make it point to the head of\n",
        "\t\t# the linked list\n",
        "\t\tnewHead.next = head\n",
        "\t\tcarry = 0\n",
        "\n",
        "\t\t# Make it the head\n",
        "\t\treturn newHead\n",
        "\t\t\n",
        "\t# If there's not carry then\n",
        "\t# return the previous head\n",
        "\telse :\n",
        "\t\treturn head\n",
        "\t\n",
        "# Recursive function to add a digit to the number\n",
        "# represented as the given linked list\n",
        "def addNewValue(head,addValue):\n",
        "\t\n",
        "\tglobal carry\n",
        "\n",
        "\t# If it is the last node in the list\n",
        "\tif (head.next == None) :\n",
        "\n",
        "\t\t# Add the digit\n",
        "\t\tval = head.value + addValue\n",
        "\n",
        "\t\t# Find the carry if any\n",
        "\t\thead.value = val % 10\n",
        "\t\tcarry = int(val / 10)\n",
        "\t\n",
        "\telse :\n",
        "\n",
        "\t\t# Preserve the current node's value and call\n",
        "\t\t# the recursive function for the next node\n",
        "\t\tval = head.value\n",
        "\t\taddNewValue(head.next, addValue)\n",
        "\t\tval = val + carry\n",
        "\t\thead.value = val % 10\n",
        "\t\tcarry = int(val / 10)\n",
        "\t\t\n",
        "# Utility function to print the linked list\n",
        "def printList(node):\n",
        "\t\n",
        "\twhile (node != None) :\n",
        "\t\tprint(node.value ,end= \" -> \")\n",
        "\t\tnode = node.next\n",
        "\t\t\n",
        "\tprint(\"None\")\n",
        "\t\n",
        "# Driver code\n",
        "\n",
        "# Create the linked list 9 -> 9 -> 3 -> None\n",
        "head = ListNode(0)\n",
        "head.value = 9\n",
        "head.next = ListNode(0)\n",
        "head.next.value = 9\n",
        "head.next.next = ListNode(0)\n",
        "head.next.next.value = 3\n",
        "head.next.next.next = None\n",
        "\n",
        "# Digit to be added\n",
        "n = 7\n",
        "head = addValue(head, n)\n",
        "\n",
        "printList(head)\n"
      ],
      "execution_count": null,
      "outputs": [
        {
          "output_type": "stream",
          "text": [
            "1 -> 0 -> 0 -> 0 -> None\n"
          ],
          "name": "stdout"
        }
      ]
    },
    {
      "cell_type": "markdown",
      "metadata": {
        "id": "C9uIusNNpxUm"
      },
      "source": [
        "2. There are some glasses with equal capacity as 1 litre. The glasses are kept as follows:\n",
        "               1\n",
        "             2   3\n",
        "          4    5    6\n",
        "        7    8    9   10\n",
        "You can put water to the only top glass. If you put more than 1-litre water to 1st glass, water overflows and fills equally in both 2nd and 3rd glasses. Glass 5 will get water from both 2nd glass and 3rd glass and so on. If you have X litre of water and you put that water in a top glass, how much water will be contained by the jth glass in an ith row? "
      ]
    },
    {
      "cell_type": "code",
      "metadata": {
        "colab": {
          "base_uri": "https://localhost:8080/"
        },
        "id": "qqBxfMqIpnkk",
        "outputId": "73676212-8e47-4bf6-aff5-4b3b66ec868d"
      },
      "source": [
        "# Program to find the amount\n",
        "# of water in j-th glass of\n",
        "# i-th row\n",
        "\n",
        "# Returns the amount of water\n",
        "# in jth glass of ith row\n",
        "def findWater(i, j, X):\n",
        "\t# A row number i has maximum\n",
        "\t# i columns. So input column\n",
        "\t# number must be less than i\n",
        "\tif (j > i):\n",
        "\t\tprint(\"Incorrect Input\");\n",
        "\t\treturn;\n",
        "\n",
        "\t# There will be i*(i+1)/2\n",
        "\t# glasses till ith row\n",
        "\t# (including ith row)\n",
        "\t# and Initialize all glasses\n",
        "\t# as empty\n",
        "\tglass = [0]*int(i *(i + 1) / 2);\n",
        "\n",
        "\t# Put all water\n",
        "\t# in first glass\n",
        "\tindex = 0;\n",
        "\tglass[index] = X;\n",
        "\n",
        "\t# Now let the water flow to\n",
        "\t# the downward glasses till\n",
        "\t# the row number is less\n",
        "\t# than or/ equal to i (given\n",
        "\t# row) correction : X can be\n",
        "\t# zero for side glasses as\n",
        "\t# they have lower rate to fill\n",
        "\tfor row in range(1,i):\n",
        "\t\t# Fill glasses in a given\n",
        "\t\t# row. Number of columns\n",
        "\t\t# in a row is equal to row number\n",
        "\t\tfor col in range(1,row+1):\n",
        "\t\t\t# Get the water\n",
        "\t\t\t# from current glass\n",
        "\t\t\tX = glass[index];\n",
        "\n",
        "\t\t\t# Keep the amount less\n",
        "\t\t\t# than or equal to\n",
        "\t\t\t# capacity in current glass\n",
        "\t\t\tglass[index] = 1.0 if (X >= 1.0) else X;\n",
        "\n",
        "\t\t\t# Get the remaining amount\n",
        "\t\t\tX = (X - 1) if (X >= 1.0) else 0.0;\n",
        "\n",
        "\t\t\t# Distribute the remaining\n",
        "\t\t\t# amount to the down two glasses\n",
        "\t\t\tglass[index + row] += (X / 2);\n",
        "\t\t\tglass[index + row + 1] += (X / 2);\n",
        "\t\t\tindex+=1;\n",
        "\n",
        "\t# The index of jth glass\n",
        "\t# in ith row will\n",
        "\t# be i*(i-1)/2 + j - 1\n",
        "\treturn glass[int(i * (i - 1) /2 + j - 1)];\n",
        "\n",
        "# Driver Code\n",
        "if __name__ == \"__main__\":\n",
        "\t\n",
        "\ti = 2;\n",
        "\tj = 2;\n",
        "\tX = 2.0;\n",
        "# Total amount of water\n",
        "\n",
        "\tres=repr(findWater(i, j, X));\n",
        "\tprint(\"Amount of water in jth glass of ith row is:\",res.ljust(8,'0'));"
      ],
      "execution_count": null,
      "outputs": [
        {
          "output_type": "stream",
          "text": [
            "Amount of water in jth glass of ith row is: 0.500000\n"
          ],
          "name": "stdout"
        }
      ]
    },
    {
      "cell_type": "markdown",
      "metadata": {
        "id": "USyjjn1SqG8i"
      },
      "source": [
        "3. Given an array arr[] consisting of N integers and an array P[] consisting of M integers such that P[i] represents the score obtained by working on the ith day. The task is to find the minimum number of days needed to work to achieve a score of at least arr[i], for each array element arr[i].\n",
        "Examples:\n",
        "\n",
        "Input: arr[] = {400, 200, 700}, P[] = {100, 300, 400, 500, 600} Output: 2 2 3 4 5 Explanation: Following are the number of days required for each array elements:\n",
        "\n",
        "arr[0](= 400): To earn 400 points one has to work for first 2 days making the total points equal to 100 + 300 = 400(>= arr[0]). arr[1](= 200): To earn 200 points one has to work for first 2 days making the total points = 100 + 300 = 400(>= arr[1]). arr[2](= 700): To earn 700 points one has to work for first 3 days making the total points = 100 + 300 + 400 = 800(>= arr[2]). Input: arr[] = {1400}, P[] = {100, 300} Output: -1"
      ]
    },
    {
      "cell_type": "code",
      "metadata": {
        "colab": {
          "base_uri": "https://localhost:8080/"
        },
        "id": "rPbdmM4g6iRr",
        "outputId": "e1f1029f-cc7c-4a4a-f732-e1227fb844b9"
      },
      "source": [
        "# Python3 program for the above approach\n",
        "\n",
        "# Function to find the minimum number\n",
        "# of days required to work to at least\n",
        "# arr[i] points for every array element\n",
        "def minDays(P, arr):\n",
        "\n",
        "\t# Traverse the array P[]\n",
        "\tfor i in range(1, len(P)):\n",
        "\t\n",
        "\t\t# Find the prefix sum\n",
        "\t\tP[i] += P[i] + P[i - 1]\n",
        "\n",
        "\t# Traverse the array arr[]\n",
        "\tfor i in range(len(arr)):\n",
        "\t\n",
        "\t\t# Find the minimum index of\n",
        "\t\t# the array having value\n",
        "\t\t# at least arr[i]\n",
        "\t\tindex = binarySeach(P, arr[i])\n",
        "\n",
        "\t\t# If the index is not -1\n",
        "\t\tif (index != -1):\n",
        "\t\t\tprint(index + 1, end = \" \")\n",
        "\t\t# Otherwise\n",
        "\t\telse:\n",
        "\t\t\tprint(-1, end = \" \")\n",
        "\n",
        "# Function to find the lower bound\n",
        "# of N using binary search\n",
        "def binarySeach(P, N):\n",
        "\n",
        "\t# Stores the lower bound\n",
        "\ti = 0\n",
        "\n",
        "\t# Stores the upper bound\n",
        "\tj = len(P) - 1\n",
        "\n",
        "\t# Stores the minimum index\n",
        "\t# having value is at least N\n",
        "\tindex = -1\n",
        "\n",
        "\t# Iterater while i<=j\n",
        "\twhile (i <= j):\n",
        "\n",
        "\t\t# Stores the mid index\n",
        "\t\t# of the range [i, j]\n",
        "\t\tmid = i + (j - i) // 2\n",
        "\n",
        "\t\t# If P[mid] is at least N\n",
        "\t\tif (P[mid] >= N):\n",
        "\n",
        "\t\t\t# Update the value of\n",
        "\t\t\t# mid to index\n",
        "\t\t\tindex = mid\n",
        "\n",
        "\t\t\t# Update the value of j\n",
        "\t\t\tj = mid - 1\n",
        "\n",
        "\t\t# Update the value of i\n",
        "\t\telse:\n",
        "\t\t\ti = mid + 1\n",
        "\n",
        "\t# Return the resultant index\n",
        "\treturn index\n",
        "\n",
        "\t# Driver Code\n",
        "if __name__ == '__main__':\n",
        "\tarr = [400, 200, 700,900,1400 ]\n",
        "\tP = [100, 300, 400, 500, 600 ]\n",
        "\tminDays(P, arr)\n",
        "\n"
      ],
      "execution_count": null,
      "outputs": [
        {
          "output_type": "stream",
          "text": [
            "2 2 2 3 3 "
          ],
          "name": "stdout"
        }
      ]
    },
    {
      "cell_type": "markdown",
      "metadata": {
        "id": "fv1gAWZSqdKr"
      },
      "source": [
        "4. Given two positive integers K and N, the task is to find the permutation present at the middle of all permutations of at most length N, consisting of integers from the range [1, K], arranged lexicographically."
      ]
    },
    {
      "cell_type": "code",
      "metadata": {
        "colab": {
          "base_uri": "https://localhost:8080/"
        },
        "id": "0R5bm_zh64lH",
        "outputId": "0464f174-b739-44e7-ae9f-05a2558a688c"
      },
      "source": [
        "# Python3 program for the above approach\n",
        "\n",
        "# Function that finds the middle the\n",
        "# lexicographical smallest sequence\n",
        "def lexiMiddleSmallest(K, N):\n",
        "\t# If K is even\n",
        "\tif (K % 2 == 0):\n",
        "\n",
        "\t\t# First element is K/2\n",
        "\t\tprint(K // 2,end=\" \")\n",
        "\n",
        "\t\t# Remamining elements of the\n",
        "\t\t# sequence are all integer K\n",
        "\t\tfor i in range(N - 1):\n",
        "\t\t\tprint(K, end = \" \")\n",
        "\t\tprint()\n",
        "\t\treturn\n",
        "\n",
        "\t# Stores the sequence when K\n",
        "\t# is odd\n",
        "\ta = [(K + 1) // 2]*(N)\n",
        "\n",
        "\t# Iterate over the range [0, N/2]\n",
        "\tfor i in range(N//2):\n",
        "\t\t# Check if the sequence ends\n",
        "\t\t# with in 1 or not\n",
        "\t\tif (a[-1] == 1):\n",
        "\n",
        "\t\t\t# Remove the sequence\n",
        "\t\t\t# ending in 1\n",
        "\t\t\tdel a[-1]\n",
        "\n",
        "\t\t# If it doesn't end in 1\n",
        "\t\telse:\n",
        "\n",
        "\t\t\t# Decrement by 1\n",
        "\t\t\ta[-1] -= 1\n",
        "\n",
        "\t\t\t# Insert K to the sequence\n",
        "\t\t\t# till its size is N\n",
        "\t\t\twhile (len(a) < N):\n",
        "\t\t\t\ta.append(K)\n",
        "\n",
        "\t# Prthe sequence stored\n",
        "\t# in the vector\n",
        "\tfor i in a:\n",
        "\t\tprint(i, end = \" \")\n",
        "\tprint()\n",
        "\n",
        "# Driver Code\n",
        "if __name__ == '__main__':\n",
        "\tK, N = 2, 4\n",
        "\tlexiMiddleSmallest(K, N)\n",
        "\n",
        "\n",
        " "
      ],
      "execution_count": null,
      "outputs": [
        {
          "output_type": "stream",
          "text": [
            "1 2 2 2 \n"
          ],
          "name": "stdout"
        }
      ]
    },
    {
      "cell_type": "markdown",
      "metadata": {
        "id": "LzfMcynsqxzN"
      },
      "source": [
        "5. Given a binary string s, the task is to find the length of the longest subsequence that can be divided into three substrings such that the first and third substrings are either empty or filled with 1 and the substring at the middle is either empty or filled with 0."
      ]
    },
    {
      "cell_type": "code",
      "metadata": {
        "colab": {
          "base_uri": "https://localhost:8080/"
        },
        "id": "BFA5lmIM8Tbd",
        "outputId": "276f6a97-ea8b-4e65-bbc7-799c0df58933"
      },
      "source": [
        "# Python3 program to find the\n",
        "# longest subsequence possible\n",
        "# that starts and ends with 1\n",
        "# and filled with 0 in the middle\n",
        "import sys\n",
        "\n",
        "def longestSubseq(s, length):\n",
        "\t\n",
        "\t# Prefix array to store the\n",
        "\t# occurences of '1' and '0'\n",
        "\t# Initialise prefix arrays with 0\n",
        "\tones = [0 for i in range(length + 1)]\n",
        "\tzeroes = [0 for i in range(length + 1)]\n",
        "\n",
        "\t# Iterate over the length of the string\n",
        "\tfor i in range(length):\n",
        "\t\t\n",
        "\t\t# If current character is '1'\n",
        "\t\tif(s[i] == '1'):\n",
        "\t\t\tones[i + 1] = ones[i] + 1\n",
        "\t\t\tzeroes[i + 1] = zeroes[i]\n",
        "\n",
        "\t\t# If current character is '0'\n",
        "\t\telse:\n",
        "\t\t\tzeroes[i + 1] = zeroes[i] + 1\n",
        "\t\t\tones[i + 1] = ones[i]\n",
        "\n",
        "\tanswer = -sys.maxsize - 1\n",
        "\tx = 0\n",
        "\n",
        "\tfor i in range(length + 1):\n",
        "\t\tfor j in range(i, length + 1):\n",
        "\t\t\t\n",
        "\t\t\t# Add '1' available for\n",
        "\t\t\t# the first string\n",
        "\t\t\tx += ones[i]\n",
        "\n",
        "\t\t\t# Add '0' available for\n",
        "\t\t\t# the second string\n",
        "\t\t\tx += (zeroes[j] - zeroes[i])\n",
        "\n",
        "\t\t\t# Add '1' available for\n",
        "\t\t\t# the third string\n",
        "\t\t\tx += (ones[length] - ones[j])\n",
        "\n",
        "\t\t\t# Update answer\n",
        "\t\t\tanswer = max(answer, x)\n",
        "\t\t\tx = 0\n",
        "\n",
        "\t# Print the final result\n",
        "\tprint(answer)\n",
        "\n",
        "# Driver Code\n",
        "S = \"10010010111100101\"\n",
        "length = len(S)\n",
        "\n",
        "longestSubseq(S, length)\n",
        "\n",
        "\n",
        " "
      ],
      "execution_count": null,
      "outputs": [
        {
          "output_type": "stream",
          "text": [
            "12\n"
          ],
          "name": "stdout"
        }
      ]
    },
    {
      "cell_type": "markdown",
      "metadata": {
        "id": "Jj5FgoTFrC8M"
      },
      "source": [
        "6. Given an array A[] of size N, the task is to find the maximum length of the longest non-decreasing array that can be generated from the given array by appending elements from either of the ends of the given array to the end of the resultant array and removing the appended element one by one. "
      ]
    },
    {
      "cell_type": "code",
      "metadata": {
        "colab": {
          "base_uri": "https://localhost:8080/"
        },
        "id": "SCMO9zNJ7Wi3",
        "outputId": "a79bf08c-ddde-4ed7-dfb7-c4fdfac5e64d"
      },
      "source": [
        "# Python3 program to implement\n",
        "# the above approach\n",
        "\n",
        "# Function to find the length of\n",
        "# the longest non-decreasing array\n",
        "# that can be generated\n",
        "def findLongestNonDecreasing(A, N):\n",
        "\n",
        "\t# Stores the length of the longest\n",
        "\t# non-decreasing array that can be\n",
        "\t# generated from the array\n",
        "\tres = 0;\n",
        "\n",
        "\t# Stores index of\n",
        "\t# start pointer\n",
        "\tstart = 0;\n",
        "\n",
        "\t# Stores index of\n",
        "\t# end pointer\n",
        "\tend = N - 1;\n",
        "\n",
        "\t# Stores previously inserted\n",
        "\t# element into the new array\n",
        "\tprev = -1;\n",
        "\n",
        "\t# Traverse the array\n",
        "\twhile (start <= end):\n",
        "\n",
        "\t\t# If A[start] is less than\n",
        "\t\t# or equal to A[end]\n",
        "\t\tif (A[start] <= A[end]):\n",
        "\n",
        "\t\t\t# If no element inserted into\n",
        "\t\t\t# the newly generated array\n",
        "\t\t\tif (prev == -1):\n",
        "\n",
        "\t\t\t\t# Update prev\n",
        "\t\t\t\tprev = A[start];\n",
        "\n",
        "\t\t\t\t# Update res\n",
        "\t\t\t\tres += 1\n",
        "\n",
        "\t\t\t\t# Update start\n",
        "\t\t\t\tstart += 1\n",
        "\n",
        "\t\t\telse:\n",
        "\n",
        "\t\t\t\t# If A[start] is greater\n",
        "\t\t\t\t# than or equal to prev\n",
        "\t\t\t\tif (A[start] >= prev):\n",
        "\n",
        "\t\t\t\t\t# Update res\n",
        "\t\t\t\t\tres += 1\n",
        "\n",
        "\t\t\t\t\t# Update prev\n",
        "\t\t\t\t\tprev = A[start];\n",
        "\n",
        "\t\t\t\t\t# Update start\n",
        "\t\t\t\t\tstart += 1\n",
        "\n",
        "\t\t\t\t# If A[end] is greater\n",
        "\t\t\t\t# than or equal to prev\n",
        "\t\t\t\telif (A[end] >= prev):\n",
        "\n",
        "\t\t\t\t\t# Update res\n",
        "\t\t\t\t\tres += 1\n",
        "\n",
        "\t\t\t\t\t# Update prev\n",
        "\t\t\t\t\tprev = A[end];\n",
        "\n",
        "\t\t\t\t\t# Update end\n",
        "\t\t\t\t\tend -= 1\n",
        "\n",
        "\t\t\t\telse:\n",
        "\t\t\t\t\tbreak;\n",
        "\n",
        "\t\t# If A[end] is\n",
        "\t\t# greater than A[start]\n",
        "\t\telse:\n",
        "\n",
        "\t\t\t# If no element inserted into\n",
        "\t\t\t# the newly generated array\n",
        "\t\t\tif (prev == -1):\n",
        "\n",
        "\t\t\t\t# Update prev\n",
        "\t\t\t\tprev = A[end];\n",
        "\n",
        "\t\t\t\t# Update res\n",
        "\t\t\t\tres += 1\n",
        "\n",
        "\t\t\t\t# Update end\n",
        "\t\t\t\tend -= 1\n",
        "\n",
        "\t\t\telse:\n",
        "\n",
        "\t\t\t\t# If A[end] is greater\n",
        "\t\t\t\t# than or equal to prev\n",
        "\t\t\t\tif (A[end] >= prev):\n",
        "\n",
        "\t\t\t\t\t# Update res\n",
        "\t\t\t\t\tres += 1\n",
        "\n",
        "\t\t\t\t\t# Update prev\n",
        "\t\t\t\t\tprev = A[end];\n",
        "\n",
        "\t\t\t\t\t# Update end\n",
        "\t\t\t\t\tend -= 1\n",
        "\n",
        "\t\t\t\t# If A[start] is greater\n",
        "\t\t\t\t# than or equal to prev\n",
        "\t\t\t\telif (A[start] >= prev):\n",
        "\n",
        "\t\t\t\t\t# Update res\n",
        "\t\t\t\t\tres += 1\n",
        "\n",
        "\t\t\t\t\t# Update prev\n",
        "\t\t\t\t\tprev = A[start];\n",
        "\n",
        "\t\t\t\t\t# Update start\n",
        "\t\t\t\t\tstart += 1\n",
        "\n",
        "\t\t\t\telse :\n",
        "\t\t\t\t\tbreak;\n",
        "\t\t\t\t\n",
        "\treturn res\n",
        "\n",
        "# Driver Code\n",
        "if __name__ == \"__main__\":\n",
        "\n",
        "\tA = [1, 1, 3, 5,\n",
        "\t\t4, 3, 6, 2, 1]\n",
        "\t\n",
        "\tN = len(A)\n",
        "\t\n",
        "\t# Function call\n",
        "\tprint (findLongestNonDecreasing(A, N));\n",
        "\n",
        "\n"
      ],
      "execution_count": null,
      "outputs": [
        {
          "output_type": "stream",
          "text": [
            "7\n"
          ],
          "name": "stdout"
        }
      ]
    },
    {
      "cell_type": "markdown",
      "metadata": {
        "id": "RC1mYalurouQ"
      },
      "source": [
        "7. Given a string str of n lowercase characters, the task is to count the number of substrings of str starting with character X and ending with character Y. "
      ]
    },
    {
      "cell_type": "code",
      "metadata": {
        "id": "--oDsVRbqu_L"
      },
      "source": [
        ""
      ],
      "execution_count": null,
      "outputs": []
    },
    {
      "cell_type": "code",
      "metadata": {
        "colab": {
          "base_uri": "https://localhost:8080/"
        },
        "id": "BMD7Yj6Z8pu_",
        "outputId": "95f96230-aac2-4b89-b7af-6d4693192c88"
      },
      "source": [
        "# Python 3 implementation to count substrings\n",
        "# starting with character X and ending\n",
        "# with character Y\n",
        "\n",
        "# function to count substrings starting with\n",
        "# character X and ending with character Y\n",
        "def countSubstr(str, n, x, y):\n",
        "\n",
        "\t# to store total count of\n",
        "\t# required substrings\n",
        "\ttot_count = 0\n",
        "\n",
        "\t# to store count of character 'x'\n",
        "\t# up to the point the string 'str'\n",
        "\t# has been traversed so far\n",
        "\tcount_x = 0\n",
        "\n",
        "\t# traverse 'str' form left to right\n",
        "\tfor i in range(n):\n",
        "\n",
        "\t\t# if true, increment 'count_x'\n",
        "\t\tif str[i] == x:\n",
        "\t\t\tcount_x += 1\n",
        "\n",
        "\t\t# if true accumulate 'count_x'\n",
        "\t\t# to 'tot_count'\n",
        "\t\tif str[i] == y:\n",
        "\t\t\ttot_count += count_x\n",
        "\t\n",
        "\t# required count\n",
        "\treturn tot_count\n",
        "\n",
        "# Driver Code\n",
        "str = 'abbcaceghcak'\n",
        "n = len(str)\n",
        "x, y = 'a', 'c'\n",
        "print('Count =', countSubstr(str, n, x, y))\n",
        "\n",
        "\n",
        " "
      ],
      "execution_count": null,
      "outputs": [
        {
          "output_type": "stream",
          "text": [
            "Count = 5\n"
          ],
          "name": "stdout"
        }
      ]
    },
    {
      "cell_type": "markdown",
      "metadata": {
        "id": "c9zGdx3xsbVx"
      },
      "source": [
        "8. Python supports a useful concept of default argument values. For each keyword argument of a function, we can assign a default value which is going to be used as the value of said argument if the function is called without it. For example, consider the following increment function:\n",
        "\n",
        "def increment_by(n, increment=1):\n",
        "    return n + increment\n",
        "The functions works like this:\n",
        "\n",
        ">>> increment_by(5, 2)\n",
        "7\n",
        ">>> increment_by(4)\n",
        "5\n",
        ">>>\n",
        "Debug the given function print_from_stream using the default value of one of its arguments.\n",
        "\n",
        "The function has the following signature:\n",
        "\n",
        "def print_from_stream(n, stream)\n",
        "This function should print the first  values returned by get_next() method of stream object provided as an argument. Each of these values should be printed in a separate line.\n",
        "\n",
        "Whenever the function is called without the stream argument, it should use an instance of EvenStream class defined in the code stubs below as the value of stream.\n",
        "\n",
        "Your function will be tested on several cases by the locked template code.\n",
        "\n",
        "Input Format\n",
        "\n",
        "The input is read by the provided locked code template. In the first line, there is a single integer  denoting the number of queries. Each of the following  lines contains a stream_name followed by integer , and it corresponds to a single test for your function.\n",
        "\n",
        "Constraints\n",
        "\n",
        "Output Format\n",
        "\n",
        "The output is produced by the provided and locked code template. For each of the queries (stream_name, n), if the stream_name is even then print_from_stream(n) is called. Otherwise, if the stream_name is odd, then print_from_stream(n, OddStream()) is called.\n",
        "\n",
        "Sample Input 0\n",
        "\n",
        "3\n",
        "odd 2\n",
        "even 3\n",
        "odd 5\n",
        "Sample Output 0\n",
        "\n",
        "1\n",
        "3\n",
        "0\n",
        "2\n",
        "4\n",
        "1\n",
        "3\n",
        "5\n",
        "7\n",
        "9"
      ]
    },
    {
      "cell_type": "code",
      "metadata": {
        "colab": {
          "base_uri": "https://localhost:8080/"
        },
        "id": "s2AARVI_tAiA",
        "outputId": "1e03e852-620c-451d-99d4-4d0c6e2f5a5e"
      },
      "source": [
        "class EvenStream(object):\n",
        "    def __init__(self):\n",
        "        self.current = 0\n",
        "\n",
        "    def get_next(self):\n",
        "        to_return = self.current\n",
        "        self.current += 2\n",
        "        return to_return\n",
        "\n",
        "class OddStream(object):\n",
        "    def __init__(self):\n",
        "        self.current = 1\n",
        "\n",
        "    def get_next(self):\n",
        "        to_return = self.current\n",
        "        self.current += 2\n",
        "        return to_return\n",
        "\n",
        "def print_from_stream(n, stream=None):\n",
        "    if stream is None:\n",
        "        stream = EvenStream()\n",
        "    for _ in range(n):\n",
        "        print(stream.get_next())\n",
        "\n",
        "\n",
        "queries = int(input())\n",
        "for _ in range(queries):\n",
        "    stream_name, n = input().split()\n",
        "    n = int(n)\n",
        "    if stream_name == \"even\":\n",
        "        print_from_stream(n)\n",
        "    else:\n",
        "        print_from_stream(n, OddStream())"
      ],
      "execution_count": null,
      "outputs": [
        {
          "output_type": "stream",
          "text": [
            "3\n",
            "3 6\n",
            "1\n",
            "3\n",
            "5\n",
            "7\n",
            "9\n",
            "11\n",
            "2 5\n",
            "1\n",
            "3\n",
            "5\n",
            "7\n",
            "9\n",
            "2 5\n",
            "1\n",
            "3\n",
            "5\n",
            "7\n",
            "9\n"
          ],
          "name": "stdout"
        }
      ]
    },
    {
      "cell_type": "markdown",
      "metadata": {
        "id": "XM54al52uSOg"
      },
      "source": [
        "9. Given a binary matrix arr[][] of dimensions N * M , the task is to count the number of right-angled triangles that can be formed by joining the cells containing the value 1 such that the triangles must have any two of its sides parallel to the sides of the rectangle. "
      ]
    },
    {
      "cell_type": "code",
      "metadata": {
        "id": "AwNyy-p2tRcZ"
      },
      "source": [
        ""
      ],
      "execution_count": null,
      "outputs": []
    },
    {
      "cell_type": "code",
      "metadata": {
        "colab": {
          "base_uri": "https://localhost:8080/"
        },
        "id": "r-dxZAETOpYP",
        "outputId": "f471ed2e-c9b5-492e-cd6d-447ed5c4a7b2"
      },
      "source": [
        "# Python3 program for the above approach\n",
        "\n",
        "# Function to count the right-angled\n",
        "# triangle in the given grid a[][]\n",
        "def numberOfTriangle(a):\n",
        "\t\n",
        "\tN = len(a)\n",
        "\tM = len(a[0])\n",
        "\n",
        "\t# Stores the count of 1s for\n",
        "\t# each row[] and column[]\n",
        "\trows = [0] * N\n",
        "\tcolumns = [0] * M\n",
        "\n",
        "\t# Find the number of 1s in\n",
        "\t# each of the rows[0, N - 1]\n",
        "\tfor i in range(N):\n",
        "\t\tfor j in range(M):\n",
        "\n",
        "\t\t\t# Increment row[i]\n",
        "\t\t\tif (a[i][j] == 1):\n",
        "\t\t\t\trows[i] += 1\n",
        "\n",
        "\t# Find the number of 1s in\n",
        "\t# each of the columns[0, N - 1]\n",
        "\tfor i in range(M):\n",
        "\t\tfor j in range(N):\n",
        "\n",
        "\t\t\t# Increment columns[i]\n",
        "\t\t\tif (a[j][i] == 1):\n",
        "\t\t\t\tcolumns[i] += 1\n",
        "\n",
        "\t# Stores the count of triangles\n",
        "\tanswer = 0\n",
        "\n",
        "\tfor i in range(N):\n",
        "\t\tfor j in range(M):\n",
        "\n",
        "\t\t\t# If current cell has value 1\n",
        "\t\t\tif (a[i][j] == 1):\n",
        "\n",
        "\t\t\t\t# Update the answer\n",
        "\t\t\t\tanswer += ((rows[i] - 1) *\n",
        "\t\t\t\t\t(columns[j] - 1))\n",
        "\n",
        "\t# Return the count\n",
        "\treturn answer\n",
        "\n",
        "# Driver Code\n",
        "if __name__ == '__main__':\n",
        "\t\n",
        "\t# Given grid arr\n",
        "\tarr = [ [ 1, 0, 1, 0 ],\n",
        "\t\t\t[ 0, 1, 1, 1 ],\n",
        "\t\t\t[ 1, 0, 1, 0 ],\n",
        "\t\t\t[ 0, 1, 0, 1 ] ]\n",
        "\n",
        "\t# Function call\n",
        "\tprint(numberOfTriangle(arr))\n",
        "\n",
        "# This code is contributed by mohit kumar 29\n"
      ],
      "execution_count": null,
      "outputs": [
        {
          "output_type": "stream",
          "text": [
            "16\n"
          ],
          "name": "stdout"
        }
      ]
    },
    {
      "cell_type": "markdown",
      "metadata": {
        "id": "1TfVTCsGuiHn"
      },
      "source": [
        "10. Given r is the radius of three equal circles touching each other. The task is to find the length of the rope tied around the circles "
      ]
    },
    {
      "cell_type": "code",
      "metadata": {
        "colab": {
          "base_uri": "https://localhost:8080/"
        },
        "id": "wl42OCBnuWTS",
        "outputId": "51386f8e-06a3-47ef-dc86-d5ef2330f71e"
      },
      "source": [
        "PI = 3.14159265\n",
        "\t\n",
        "# Function to find the length\n",
        "# of rope\n",
        "def length_rope( r ):\n",
        "\treturn ( ( 2 * PI * r ) + 6 * r )\n",
        "\t\n",
        "# Driver code\n",
        "r = 7\n",
        "print( length_rope( r ))\n",
        " "
      ],
      "execution_count": null,
      "outputs": [
        {
          "output_type": "stream",
          "text": [
            "85.98229710000001\n"
          ],
          "name": "stdout"
        }
      ]
    },
    {
      "cell_type": "markdown",
      "metadata": {
        "id": "gNTbCdt8vAMO"
      },
      "source": [
        "11. Given an array of n positive distinct integers representing lengths of lines that can form a triangle. The task is to find the number of acute triangles, obtuse triangles, and right triangles separately that can be formed from the given array. "
      ]
    },
    {
      "cell_type": "code",
      "metadata": {
        "colab": {
          "base_uri": "https://localhost:8080/"
        },
        "id": "aD4UAYJpPIW5",
        "outputId": "9981edcc-edbe-4a25-ad4a-01d6db68ec44"
      },
      "source": [
        "# Python3 program to count of acute, obtuse and right\n",
        "# triangles in an array\n",
        "\n",
        "# Find the number of acute, right, obtuse triangle\n",
        "# that can be formed from given array.\n",
        "def findTriangle(a, n) :\n",
        "\t\n",
        "\tb = []\n",
        "\t# Finding the square of each element of array\n",
        "\tfor i in range(n) :\n",
        "\t\tb.append(a[i] * a[i])\n",
        "\t\n",
        "\t# Sort the sides of array and their squares.\n",
        "\ta.sort()\n",
        "\tb.sort()\n",
        "\t\n",
        "\t# x for acute triangles\n",
        "\t# y for right triangles\n",
        "\t# z for obtuse triangles\n",
        "\tx, y, z = 0, 0, 0\n",
        "\t\n",
        "\tfor i in range(n) :\n",
        "\t\tp = i+1\n",
        "\t\tq = i+1\n",
        "\t\tfor j in range(i + 1, n) :\n",
        "\t\t\t# Finding the farthest point p where\n",
        "\t\t\t# a^2 + b^2 >= c^2.\n",
        "\t\t\twhile (p<n-1 and b[i]+b[j]>=b[p+1]) :\n",
        "\t\t\t\tp += 1\n",
        "\t\t\tq = max(q, p)\n",
        "\t\t\t# Finding the farthest point q where\n",
        "\t\t\t# a + b > c.\n",
        "\t\t\twhile (q<n-1 and a[i]+a[j]>a[q+1]) :\n",
        "\t\t\t\tq += 1\n",
        "\t\t\t\t\n",
        "\t\t\t# If point p make right triangle.\n",
        "\t\t\tif (b[i]+b[j]==b[p]) :\n",
        "\t\t\t\t# All triangle between j and p are acute\n",
        "\t\t\t\t# triangles. So add p - j - 1 in x.\n",
        "\t\t\t\tx += max(p - j - 1, 0)\n",
        "\t\t\t\t# Increment y by 1.\n",
        "\t\t\t\ty += 1\n",
        "\t\t\t\t# All triangle between q and p are acute\n",
        "\t\t\t\t# triangles. So add q - p in z.\n",
        "\t\t\t\tz += q - p\n",
        "\t\t\t# If no right triangle\n",
        "\t\t\telse :\n",
        "\t\t\t\t# All triangle between j and p are acute\n",
        "\t\t\t\t# triangles. So add p - j in x.\n",
        "\t\t\t\tx += max(p - j, 0)\n",
        "\t\t\t\t# All triangle between q and p are acute\n",
        "\t\t\t\t# triangles. So add q - p in z.\n",
        "\t\t\t\tz += q - p\n",
        "\t\n",
        "\tprint(\"Acute Triangle:\",x )\n",
        "\tprint(\"Right Triangle:\", y)\n",
        "\tprint(\"Obtuse Triangle:\", z)\n",
        "\n",
        "\n",
        "# Driver Code\n",
        "if __name__ == \"__main__\" :\n",
        "\n",
        "\tarr = [2, 3, 9, 10, 12, 15]\n",
        "\tn = len(arr)\n",
        "\tfindTriangle(arr, n)\n",
        "\n"
      ],
      "execution_count": null,
      "outputs": [
        {
          "output_type": "stream",
          "text": [
            "Acute Triangle: 2\n",
            "Right Triangle: 1\n",
            "Obtuse Triangle: 4\n"
          ],
          "name": "stdout"
        }
      ]
    },
    {
      "cell_type": "markdown",
      "metadata": {
        "id": "Z9_coTqivKHe"
      },
      "source": [
        "12. Given two positive integers A and B representing the sides of the right kite, the task is to find the area of the circumcircle and incircle of a right kite.\n",
        "A right kite is a kite that can be inscribed in a circle with two opposite angles are at right angles. The line of symmetry of the kite is also the diameter of the circumcircle of the kite. It divides the kite into two congruent right-angled triangles having sides as A and B of a right kite. "
      ]
    },
    {
      "cell_type": "code",
      "metadata": {
        "colab": {
          "base_uri": "https://localhost:8080/"
        },
        "id": "zBqpMGkpvHs-",
        "outputId": "751294fb-fc98-4009-9a85-b2ef403ff5eb"
      },
      "source": [
        "# Python program for the above approach\n",
        "# Function to calculate the area of\n",
        "# circumcircle of right kite\n",
        "import math\n",
        "pi = 3.14\n",
        "\n",
        "def AreaOfCircumcircle(a, b):\n",
        "\n",
        "\t# Find the radius\n",
        "\tradius = math.sqrt(a * a + b * b)/ 2\n",
        "\treturn pi * radius * radius\n",
        "\n",
        "\n",
        "# Function to calculate the area of\n",
        "# incircle of right kite\n",
        "def AreaOfIncircle( a, b):\n",
        "\n",
        "\t# Find the radius\n",
        "\tradius = (a * b) // (a + b)\n",
        "\treturn pi * (radius**2)\n",
        "\n",
        "\n",
        "# Driver Code\n",
        "# Given Input\n",
        "a = 10\n",
        "b = 5\n",
        "\n",
        "# Function Call\n",
        "circumarea = AreaOfCircumcircle(a, b)\n",
        "print(\"Area of circumcircle of Right Kite is\" ,\" \" , format(circumarea,\".3f\"))\n",
        "\n",
        "# Function Call\n",
        "inarea = AreaOfIncircle(a, b)\n",
        "print(\"Area of incircle of Right Kite is\" ,\" \" , format(inarea,\".2f\"))"
      ],
      "execution_count": null,
      "outputs": [
        {
          "output_type": "stream",
          "text": [
            "Area of circumcircle of Right Kite is   98.125\n",
            "Area of incircle of Right Kite is   28.26\n"
          ],
          "name": "stdout"
        }
      ]
    },
    {
      "cell_type": "markdown",
      "metadata": {
        "id": "e8F2unJ2vauQ"
      },
      "source": [
        "13. Given an integer R which denotes the radius of a circle, the task is to find the area of an equilateral triangle inscribed in this circle.\n",
        "Examples:\n",
        "\n",
        "Input: R = 4 Output: 20.784"
      ]
    },
    {
      "cell_type": "code",
      "metadata": {
        "colab": {
          "base_uri": "https://localhost:8080/"
        },
        "id": "CiTPRF7yRA1j",
        "outputId": "c0864f71-151c-40d0-815f-3594ddd33648"
      },
      "source": [
        "# Python 3 implementation to find\n",
        "# the area of the equilateral triangle\n",
        "# inscribed in a circle of radius R\n",
        "\n",
        "# Function to find the area of\n",
        "# equilateral triangle inscribed\n",
        "# in a circle of radius R\n",
        "def area(R):\n",
        "\t# Base and Height of\n",
        "\t# equilateral triangle\n",
        "\tbase = 1.732 * R\n",
        "\theight = ( 3 / 2 ) * R\n",
        "\t\n",
        "\t# Area using Base and Height\n",
        "\tarea = (( 1 / 2 ) * base * height )\n",
        "\treturn area\n",
        "\t\n",
        "# Driver Code\n",
        "if __name__=='__main__':\n",
        "\tR = 7\n",
        "\tprint(area(R))\n"
      ],
      "execution_count": null,
      "outputs": [
        {
          "output_type": "stream",
          "text": [
            "63.651\n"
          ],
          "name": "stdout"
        }
      ]
    },
    {
      "cell_type": "markdown",
      "metadata": {
        "id": "vVeECmqbwB_L"
      },
      "source": [
        "14. Given a rod of length L, the task is to cut the rod in such a way that the total number of segments of length p, q and r is maximized. The segments can only be of length p, q, and r. "
      ]
    },
    {
      "cell_type": "code",
      "metadata": {
        "id": "ZSAfWaIST_gL",
        "colab": {
          "base_uri": "https://localhost:8080/"
        },
        "outputId": "77e66484-9a1c-46b3-ae68-a444e85d6e21"
      },
      "source": [
        "# Python 3 program to\n",
        "# maximize the number\n",
        "# of segments of length\n",
        "# p, q and r\n",
        "\n",
        "# Function that returns\n",
        "# the maximum number\n",
        "# of segments possible\n",
        "\n",
        "\n",
        "def findMaximum(l, p, q, r):\n",
        "\n",
        "\t# Array to store the cut\n",
        "\t# at each length\n",
        "\t# All values with -1\n",
        "\tdp = [-1]*(l + 1)\n",
        "\n",
        "\t# if length of rod is 0 then\n",
        "\t# total cuts will be 0\n",
        "\t# so, initialize the dp[0] with 0\n",
        "\tdp[0] = 0\n",
        "\n",
        "\tfor i in range(l+1):\n",
        "\n",
        "\t\t# if certain length is not\n",
        "\t\t# possible\n",
        "\t\tif (dp[i] == -1):\n",
        "\t\t\tcontinue\n",
        "\n",
        "\t\t# if a segment of p is possible\n",
        "\t\tif (i + p <= l):\n",
        "\t\t\tdp[i + p] = (max(dp[i + p],\n",
        "\t\t\t\t\t\t\tdp[i] + 1))\n",
        "\n",
        "\t\t# if a segment of q is possible\n",
        "\t\tif (i + q <= l):\n",
        "\t\t\tdp[i + q] = (max(dp[i + q],\n",
        "\t\t\t\t\t\t\tdp[i] + 1))\n",
        "\n",
        "\t\t# if a segment of r is possible\n",
        "\t\tif (i + r <= l):\n",
        "\t\t\tdp[i + r] = (max(dp[i + r],\n",
        "\t\t\t\t\t\t\tdp[i] + 1))\n",
        "\n",
        "\t# if no segment can be cut then return 0\n",
        "\tif dp[l] == -1:\n",
        "\t\tdp[l] = 0\n",
        "\t# return value corresponding\n",
        "\t# to length l\n",
        "\treturn dp[l]\n",
        "\n",
        "\n",
        "# Driver Code\n",
        "if __name__ == \"__main__\":\n",
        "\tl = 11\n",
        "\tp = 2\n",
        "\tq = 3\n",
        "\tr = 5\n",
        "\n",
        "\t# Calling Function\n",
        "\tans = findMaximum(l, p, q, r)\n",
        "\tprint(ans)\n",
        "\n",
        "# This code is contributed by\n",
        "# ChitraNayal\n"
      ],
      "execution_count": null,
      "outputs": [
        {
          "output_type": "stream",
          "text": [
            "5\n"
          ],
          "name": "stdout"
        }
      ]
    },
    {
      "cell_type": "markdown",
      "metadata": {
        "id": "H4IU5SUtwZ2x"
      },
      "source": [
        "15. Given a number in the form of a string s, the task is to calculate and display minimum splits required such that the segments formed are Prime or print Not Possible otherwise."
      ]
    },
    {
      "cell_type": "code",
      "metadata": {
        "colab": {
          "base_uri": "https://localhost:8080/"
        },
        "id": "DRQOYgXuwg-s",
        "outputId": "5c41bfec-598e-4b0a-f052-82f8d2d6c284"
      },
      "source": [
        "# Python 3 program to\n",
        "# maximize the number\n",
        "# of segments of length\n",
        "# p, q and r\n",
        "\n",
        "# Function that returns\n",
        "# the maximum number\n",
        "# of segments possible\n",
        "\n",
        "\n",
        "def findMaximum(l, p, q, r):\n",
        "\n",
        "\t# Array to store the cut\n",
        "\t# at each length\n",
        "\t# All values with -1\n",
        "\tdp = [-1]*(l + 1)\n",
        "\n",
        "\t# if length of rod is 0 then\n",
        "\t# total cuts will be 0\n",
        "\t# so, initialize the dp[0] with 0\n",
        "\tdp[0] = 0\n",
        "\n",
        "\tfor i in range(l+1):\n",
        "\n",
        "\t\t# if certain length is not\n",
        "\t\t# possible\n",
        "\t\tif (dp[i] == -1):\n",
        "\t\t\tcontinue\n",
        "\n",
        "\t\t# if a segment of p is possible\n",
        "\t\tif (i + p <= l):\n",
        "\t\t\tdp[i + p] = (max(dp[i + p],\n",
        "\t\t\t\t\t\t\tdp[i] + 1))\n",
        "\n",
        "\t\t# if a segment of q is possible\n",
        "\t\tif (i + q <= l):\n",
        "\t\t\tdp[i + q] = (max(dp[i + q],\n",
        "\t\t\t\t\t\t\tdp[i] + 1))\n",
        "\n",
        "\t\t# if a segment of r is possible\n",
        "\t\tif (i + r <= l):\n",
        "\t\t\tdp[i + r] = (max(dp[i + r],\n",
        "\t\t\t\t\t\t\tdp[i] + 1))\n",
        "\n",
        "\t# if no segment can be cut then return 0\n",
        "\tif dp[l] == -1:\n",
        "\t\tdp[l] = 0\n",
        "\t# return value corresponding\n",
        "\t# to length l\n",
        "\treturn dp[l]\n",
        "\n",
        "\n",
        "# Driver Code\n",
        "if __name__ == \"__main__\":\n",
        "\tl = 11\n",
        "\tp = 2\n",
        "\tq = 3\n",
        "\tr = 5\n",
        "\n",
        "\t# Calling Function\n",
        "\tans = findMaximum(l, p, q, r)\n",
        "\tprint(ans)\n",
        "\n",
        "# This code is contributed by\n",
        "# ChitraNayal\n"
      ],
      "execution_count": null,
      "outputs": [
        {
          "output_type": "stream",
          "text": [
            "5\n"
          ],
          "name": "stdout"
        }
      ]
    },
    {
      "cell_type": "markdown",
      "metadata": {
        "id": "mISzBuOtw2S-"
      },
      "source": [
        "16. Given a binary number, the task is to remove exactly one bit from it such that, after it’s removal, the resultant binary number is greatest from all the options."
      ]
    },
    {
      "cell_type": "code",
      "metadata": {
        "colab": {
          "base_uri": "https://localhost:8080/"
        },
        "id": "VLJsBzxtcxWa",
        "outputId": "8877c147-3b22-4b4d-b87e-38df41fa1dce"
      },
      "source": [
        "# Python3 program to find next maximum\n",
        "# binary number with one bit removed\n",
        "\n",
        "# Function to find the maximum\n",
        "# binary number\n",
        "def printMaxAfterRemoval(s):\n",
        "\n",
        "\tflag = False\n",
        "\tn = len(s)\n",
        "\n",
        "\t# Traverse the binary number\n",
        "\tfor i in range(0, n):\n",
        "\n",
        "\t\t# Try finding a 0 and skip it\n",
        "\t\tif s[i] == '0' and flag == False:\n",
        "\t\t\tflag = True\n",
        "\t\t\tcontinue\n",
        "\t\t\n",
        "\t\telse:\n",
        "\t\t\tprint(s[i], end = \"\")\n",
        "\n",
        "# Driver code\n",
        "if __name__ == \"__main__\":\n",
        "\n",
        "\t# Get the binary number\n",
        "\ts = \"1001\"\n",
        "\n",
        "\t# Find the maximum binary number\n",
        "\tprintMaxAfterRemoval(s)\n",
        "\n",
        "# This code is contributed\n",
        "# by Rituraj Jain\n"
      ],
      "execution_count": null,
      "outputs": [
        {
          "output_type": "stream",
          "text": [
            "101"
          ],
          "name": "stdout"
        }
      ]
    },
    {
      "cell_type": "markdown",
      "metadata": {
        "id": "MJscawYmxnh5"
      },
      "source": [
        "17. Given two strings str1 and str2 of size N consisting of only three characters A, B, and C, the task is to check whether the string str1 can be changed to str2 using the below operations:\n",
        "Replacing one occurrence of “BC” with “CB” i.e swap adjacent ‘B’ and ‘C’. Replacing one occurrence of “CA” with “AC” i.e swap adjacent ‘C’ and ‘A’. Print “Yes” if we can transform the string else print “No”. Examples:\n",
        "\n",
        "Input: str1 = “BCCABCBCA”, str2 = “CBACCBBAC” Output: Yes"
      ]
    },
    {
      "cell_type": "code",
      "metadata": {
        "colab": {
          "base_uri": "https://localhost:8080/"
        },
        "id": "u9MJrvBJdNoW",
        "outputId": "d8e2e66e-37ef-42c2-c42a-e404adb881eb"
      },
      "source": [
        "# Python3 program for the above approach\n",
        "\n",
        "# Function to check if it is possible\n",
        "# to transform start to end\n",
        "def canTransform(str1, str2):\n",
        "\t\n",
        "\ts1 = \"\"\n",
        "\ts2 = \"\"\n",
        "\n",
        "\t# Check the sequence of A, B in\n",
        "\t# both strings str1 and str2\n",
        "\tfor c in str1:\n",
        "\t\tif (c != 'C'):\n",
        "\t\t\ts1 += c\n",
        "\n",
        "\tfor c in str2:\n",
        "\t\tif (c != 'C'):\n",
        "\t\t\ts2 += c\n",
        "\n",
        "\t# If both the strings\n",
        "\t# are not equal\n",
        "\tif (s1 != s2):\n",
        "\t\treturn False\n",
        "\n",
        "\ti = 0\n",
        "\tj = 0\n",
        "\tn = len(str1)\n",
        "\n",
        "\t# Traverse the strings\n",
        "\twhile (i < n and j < n):\n",
        "\t\tif (str1[i] == 'C'):\n",
        "\t\t\ti += 1\n",
        "\n",
        "\t\telif (str2[j] == 'C'):\n",
        "\t\t\tj += 1\n",
        "\n",
        "\t\t# Check for indexes of A and B\n",
        "\t\telse:\n",
        "\t\t\tif ((str1[i] == 'A' and i < j) or\n",
        "\t\t\t\t(str1[i] == 'B' and i > j)):\n",
        "\t\t\t\treturn False\n",
        "\t\t\t\t\n",
        "\t\t\ti += 1\n",
        "\t\t\tj += 1\n",
        "\n",
        "\treturn True\n",
        "\n",
        "# Driver Code\n",
        "if __name__ == '__main__':\n",
        "\t\n",
        "\tstr1 = \"BCCABCBCA\"\n",
        "\tstr2 = \"CBACCBBAC\"\n",
        "\n",
        "\t# Function call\n",
        "\tif (canTransform(str1, str2)):\n",
        "\t\tprint(\"Yes\")\n",
        "\telse:\n",
        "\t\tprint(\"No\")\n",
        "\n",
        "# This code is contributed by mohit kumar 29\n"
      ],
      "execution_count": null,
      "outputs": [
        {
          "output_type": "stream",
          "text": [
            "Yes\n"
          ],
          "name": "stdout"
        }
      ]
    },
    {
      "cell_type": "markdown",
      "metadata": {
        "id": "quggQoLkx3Ge"
      },
      "source": [
        "18. Given a sorted array arr[] consisting of N positive integers such that arr[i] represent the days in which a worker will work and an array cost[] of size 3 representing the salary paid to the workers for 1 day, 7 days and 30 days respectively, the task is to find the minimum cost required to have a worker for all the given days in arr[]. "
      ]
    },
    {
      "cell_type": "code",
      "metadata": {
        "id": "jtaOF8TF5VjM",
        "colab": {
          "base_uri": "https://localhost:8080/"
        },
        "outputId": "69ce1431-44b7-4c38-bece-ca326d74b01a"
      },
      "source": [
        "# Python Program for the above approach\n",
        "\n",
        "# Function to find the minimum cost\n",
        "# to hire the workers for the given\n",
        "# days in the array days[]\n",
        "def MinCost(days, cost, N):\n",
        "\t\n",
        "\tsize = days[N - 1] + 1\n",
        "\n",
        "\t# Initialize the array dp\n",
        "\tdp = [0 for i in range(size)]\n",
        "\n",
        "\t# Minimum Cost for Nth day\n",
        "\tdp[size - 1] = min(cost[0], min(cost[1], cost[2]))\n",
        "\n",
        "\t# Poleter of the array arr[]\n",
        "\tptr = N - 2\n",
        "\n",
        "\t# Traverse from right to left\n",
        "\tfor i in range(size - 2, 0, -1):\n",
        "\n",
        "\t\tif (ptr >= 0 and days[ptr] == i):\n",
        "\n",
        "\t\t\t# If worker is hired for 1 day\n",
        "\t\t\tval1 = dp[i + 1] + cost[0]\n",
        "\n",
        "\t\t\t# If worker is hired for 7 days\n",
        "\t\t\tval2 = cost[1] + ( 0 if (i + 7 >= size) else dp[i + 7])\n",
        "\n",
        "\t\t\t# If worker is hired for 30 days\n",
        "\t\t\tval3 = cost[2] + ( 0 if (i + 30 >= size) else dp[i + 30])\n",
        "\n",
        "\t\t\t# Update the value of dp[i] as\n",
        "\t\t\t# minimum of 3 options\n",
        "\t\t\tdp[i] = min(val1, min(val2, val3))\n",
        "\t\t\tptr -= 1;\n",
        "\n",
        "\t\t# If the day is not at the\n",
        "\t\t# array arr[]\n",
        "\t\telse:\n",
        "\t\t\tdp[i] = dp[i + 1]\n",
        "\t\n",
        "\t# Return the answer\n",
        "\treturn dp[1]\n",
        "\n",
        "# Driver Code\n",
        "arr = [2, 4, 6, 7, 8, 10, 17]\n",
        "cost = [3, 8, 20]\n",
        "N = len(arr)\n",
        "print(MinCost(arr, cost, N))\n",
        "\n",
        "# This code is contributed by gfgking\n",
        " "
      ],
      "execution_count": null,
      "outputs": [
        {
          "output_type": "stream",
          "text": [
            "14\n"
          ],
          "name": "stdout"
        }
      ]
    },
    {
      "cell_type": "markdown",
      "metadata": {
        "id": "sqXjil-dyHTD"
      },
      "source": [
        "19. Given an array with repeated elements, the task is to find the maximum distance between two occurrences of an element.\n",
        "Examples:\n",
        "\n",
        "Input : arr[] = {3, 2, 1, 2, 1, 4, 5, 8, 6, 7, 4, 2} Output: 10 // maximum distance for 2 is 11-1 = 10 // maximum distance for 1 is 4-2 = 2 // maximum distance for 4 is 10-5 = 5"
      ]
    },
    {
      "cell_type": "code",
      "metadata": {
        "colab": {
          "base_uri": "https://localhost:8080/"
        },
        "id": "Or8PCz2U6Afm",
        "outputId": "1505390c-ce93-43fb-a896-5fd94cf3930a"
      },
      "source": [
        "# Python program to find maximum distance between two\n",
        "# same occurrences of a number.\n",
        "\n",
        "# Function to find maximum distance between equal elements\n",
        "def maxDistance(arr, n):\n",
        "\t\n",
        "\t# Used to store element to first index mapping\n",
        "\tmp = {}\n",
        "\n",
        "\t# Traverse elements and find maximum distance between\n",
        "\t# same occurrences with the help of map.\n",
        "\tmaxDict = 0\n",
        "\tfor i in range(n):\n",
        "\n",
        "\t\t# If this is first occurrence of element, insert its\n",
        "\t\t# index in map\n",
        "\t\tif arr[i] not in mp.keys():\n",
        "\t\t\tmp[arr[i]] = i\n",
        "\n",
        "\t\t# Else update max distance\n",
        "\t\telse:\n",
        "\t\t\tmaxDict = max(maxDict, i-mp[arr[i]])\n",
        "\n",
        "\treturn maxDict\n",
        "\n",
        "# Driver Program\n",
        "if __name__=='__main__':\n",
        "\tarr = [3, 2, 1, 2, 1, 4, 5, 8, 6, 7, 4, 2]\n",
        "\tn = len(arr)\n",
        "\tprint(maxDistance(arr, n))\n",
        "\t\t\n",
        "# Contributed By: Harshit Sidhwa\n",
        " "
      ],
      "execution_count": null,
      "outputs": [
        {
          "output_type": "stream",
          "text": [
            "10\n"
          ],
          "name": "stdout"
        }
      ]
    },
    {
      "cell_type": "markdown",
      "metadata": {
        "id": "UXyfWa1zySEi"
      },
      "source": [
        "20. Given an array arr[] consisting of queries of the form {L, R}, the task for each query is to count the numbers in the range [L, R] that can be expressed as the sum of its digits raised to the power of count of digits."
      ]
    },
    {
      "cell_type": "code",
      "metadata": {
        "colab": {
          "base_uri": "https://localhost:8080/"
        },
        "id": "GtLphXRm6yi5",
        "outputId": "b4c66f08-5b25-4580-f121-f0d1e322be7c"
      },
      "source": [
        "# Python 3 program for the above approach\n",
        "R = 100005\n",
        "arr = [0 for i in range(R)]\n",
        "\n",
        "# Function to check if a number N can be\n",
        "# expressed as sum of its digits raised\n",
        "# to the power of the count of digits\n",
        "def canExpress(N):\n",
        "\ttemp = N\n",
        "\n",
        "\t# Stores the number of digits\n",
        "\tn = 0\n",
        "\twhile (N != 0):\n",
        "\t\tN //= 10\n",
        "\t\tn += 1\n",
        "\n",
        "\t# Stores the resultant number\n",
        "\tN = temp\n",
        "\tsum = 0\n",
        "\twhile (N != 0):\n",
        "\t\tsum += pow(N % 10, n)\n",
        "\t\tN //= 10\n",
        "\n",
        "\t# Return true if both the\n",
        "\t# numbers are same\n",
        "\treturn (sum == temp)\n",
        "\n",
        "# Function to precompute and store\n",
        "# for all numbers whether they can\n",
        "# be expressed\n",
        "def precompute():\n",
        "\n",
        "\t# Mark all the index which\n",
        "\t# are plus perfect number\n",
        "\tfor i in range(1, R, 1):\n",
        "\t\n",
        "\t\t# If true, then update the\n",
        "\t\t# value at this index\n",
        "\t\tif(canExpress(i)):\n",
        "\t\t\tarr[i] = 1\n",
        "\n",
        "\t# Compute prefix sum of the array\n",
        "\tfor i in range(1,R,1):\n",
        "\t\tarr[i] += arr[i - 1]\n",
        "\n",
        "# Function to count array elements that\n",
        "# can be expressed as the sum of digits\n",
        "# raised to the power of count of digits\n",
        "def countNumbers(queries, N):\n",
        "\n",
        "\t# Precompute the results\n",
        "\tprecompute()\n",
        "\n",
        "\t# Traverse the queries\n",
        "\tfor i in range(N):\n",
        "\t\tL1 = queries[i][0]\n",
        "\t\tR1 = queries[i][1]\n",
        "\n",
        "\t\t# Print the resultant count\n",
        "\t\tprint((arr[R1] - arr[L1 - 1]),end = \" \")\n",
        "\n",
        "# Driver Code\n",
        "if __name__ == '__main__':\n",
        "\tqueries = [[1, 400],[1, 9]]\n",
        "\tN = len(queries)\n",
        "\tcountNumbers(queries, N)\n",
        "\n",
        "\t# This code is contributed by SURENDRA_GANGWAR.\n",
        " "
      ],
      "execution_count": null,
      "outputs": [
        {
          "output_type": "stream",
          "text": [
            "12 9 "
          ],
          "name": "stdout"
        }
      ]
    },
    {
      "cell_type": "markdown",
      "metadata": {
        "id": "MxrCWm-Aytbp"
      },
      "source": [
        "21. Given an array of jobs where every job has a deadline and associated profit if the job is finished before the deadline. It is also given that every job takes a single unit of time, so the minimum possible deadline for any job is 1. How to maximize total profit if only one job can be scheduled at a time.\n",
        "\n",
        "Examples: \n",
        "\n",
        "Input: Four Jobs with following \n",
        "deadlines and profits\n",
        "\n",
        "JobID  Deadline  Profit\n",
        "\n",
        "  a      4        20   \n",
        "\n",
        "  b      1        10\n",
        "\n",
        "  c      1        40  \n",
        "\n",
        "  d      1        30\n",
        "\n",
        "Output: Following is maximum \n",
        "profit sequence of jobs\n",
        "\n",
        "        c, a   \n",
        "\n",
        "\n",
        "Input:  Five Jobs with following\n",
        "deadlines and profits\n",
        "\n",
        "JobID   Deadline  Profit\n",
        "\n",
        "  a       2        100\n",
        "\n",
        "  b       1        19\n",
        "\n",
        "  c       2        27\n",
        "\n",
        "  d       1        25\n",
        "\n",
        "  e       3        15\n",
        "\n",
        "Output: Following is maximum \n",
        "profit sequence of jobs\n",
        "\n",
        "        c, a, e"
      ]
    },
    {
      "cell_type": "code",
      "metadata": {
        "colab": {
          "base_uri": "https://localhost:8080/"
        },
        "id": "XfZdjqVQyZll",
        "outputId": "4b502a21-98a8-4544-d9d6-303d68e82d0a"
      },
      "source": [
        "# Program to find the maximum profit\n",
        "# job sequence from a given array\n",
        "# of jobs with deadlines and profits\n",
        "\n",
        "# function to schedule the jobs take 2\n",
        "# arguments array and no of jobs to schedule\n",
        "\n",
        "\n",
        "def printJobScheduling(arr, t):\n",
        "\n",
        "\t# length of array\n",
        "\tn = len(arr)\n",
        "\n",
        "\t# Sort all jobs according to\n",
        "\t# decreasing order of profit\n",
        "\tfor i in range(n):\n",
        "\t\tfor j in range(n - 1 - i):\n",
        "\t\t\tif arr[j][2] < arr[j + 1][2]:\n",
        "\t\t\t\tarr[j], arr[j + 1] = arr[j + 1], arr[j]\n",
        "\n",
        "\t# To keep track of free time slots\n",
        "\tresult = [False] * t\n",
        "\n",
        "\t# To store result (Sequence of jobs)\n",
        "\tjob = ['-1'] * t\n",
        "\n",
        "\t# Iterate through all given jobs\n",
        "\tfor i in range(len(arr)):\n",
        "\n",
        "\t\t# Find a free slot for this job\n",
        "\t\t# (Note that we start from the\n",
        "\t\t# last possible slot)\n",
        "\t\tfor j in range(min(t - 1, arr[i][1] - 1), -1, -1):\n",
        "\n",
        "\t\t\t# Free slot found\n",
        "\t\t\tif result[j] is False:\n",
        "\t\t\t\tresult[j] = True\n",
        "\t\t\t\tjob[j] = arr[i][0]\n",
        "\t\t\t\tbreak\n",
        "\n",
        "\t# print the sequence\n",
        "\tprint(job)\n",
        "\n",
        "\n",
        "# Driver COde\n",
        "arr = [['a', 2, 100], # Job Array\n",
        "\t['b', 1, 19],\n",
        "\t['c', 2, 27],\n",
        "\t['d', 1, 25],\n",
        "\t['e', 3, 15]]\n",
        "\n",
        "\n",
        "print(\"Following is maximum profit sequence of jobs\")\n",
        "\n",
        "# Function Call\n",
        "printJobScheduling(arr, 3)\n"
      ],
      "execution_count": null,
      "outputs": [
        {
          "output_type": "stream",
          "text": [
            "Following is maximum profit sequence of jobs\n",
            "['c', 'a', 'e']\n"
          ],
          "name": "stdout"
        }
      ]
    },
    {
      "cell_type": "markdown",
      "metadata": {
        "id": "jekbOGwQ04Ic"
      },
      "source": [
        "22. Given a directed and connected graph with n nodes. If there is an edge from u to v then u depends on v. Our task was to find out the sum of dependencies for every node.\n",
        "  \n",
        "  Example: \n",
        "For the graph in diagram, \n",
        "A depends on C and D i.e. 2 \n",
        "B depends on C i.e. 1 \n",
        "D depends on C i.e. 1 \n",
        "And C depends on none. \n",
        "Hence answer -> 0 + 1 + 1 + 2 = 4"
      ]
    },
    {
      "cell_type": "code",
      "metadata": {
        "colab": {
          "base_uri": "https://localhost:8080/"
        },
        "id": "_3qElvPg0DIc",
        "outputId": "6c4d3acb-8bd8-4b8c-80d8-6407faeec5b5"
      },
      "source": [
        "# Python3 program to find the sum\n",
        "# of dependencies\n",
        "\n",
        "# To add an edge\n",
        "def addEdge(adj, u, v):\n",
        "\n",
        "\tadj[u].append(v)\n",
        "\n",
        "# Find the sum of all dependencies\n",
        "def findSum(adj, V):\n",
        "\t\n",
        "\tsum = 0\n",
        "\t\n",
        "\t# Just find the size at each\n",
        "\t# vector's index\n",
        "\tfor u in range(V):\n",
        "\t\tsum += len(adj[u])\n",
        "\t\t\n",
        "\treturn sum\n",
        "\n",
        "# Driver code\n",
        "if __name__=='__main__':\n",
        "\n",
        "\tV = 4\n",
        "\tadj = [[] for i in range(V)]\n",
        "\t\n",
        "\taddEdge(adj, 0, 2)\n",
        "\taddEdge(adj, 0, 3)\n",
        "\taddEdge(adj, 1, 3)\n",
        "\taddEdge(adj, 2, 3)\n",
        "\t\n",
        "\tprint(\"Sum of dependencies is\",\n",
        "\t\tfindSum(adj, V))\n",
        "\t\n"
      ],
      "execution_count": null,
      "outputs": [
        {
          "output_type": "stream",
          "text": [
            "Sum of dependencies is 4\n"
          ],
          "name": "stdout"
        }
      ]
    },
    {
      "cell_type": "markdown",
      "metadata": {
        "id": "bK7V7-r31BhW"
      },
      "source": [
        "23. Given N dependencies of the form X Y, where X & Y represents two different tasks. The dependency X Y denotes dependency of the form Y -> X i.e, if task Y happens then task X will happen in other words task Y has to be completed first to initiate task X. Also given M tasks that will initiate first. The task is to print all the tasks that will get completed at the end in the lexicographical order. Note that the tasks will be represented by upper case English letters only.\n",
        "\n",
        "Input: dep[][] = {{A, B}, {C, B}, {D, A}, {D, C}, {B, E}}, tasks[] = {B, C}\n",
        "Output: A B C D\n",
        "Task A happens after task B and task D can only happen\n",
        "after the completion of tasks A or C.\n",
        "So, the required order is A B C D.\n",
        "\n",
        "Input: dep[][] = {{Q, P}, {S, Q}, {Q, R}}, tasks[] = {R} \n",
        "Output: Q R S\n"
      ]
    },
    {
      "cell_type": "code",
      "metadata": {
        "colab": {
          "base_uri": "https://localhost:8080/"
        },
        "id": "eDDphlRu0_TM",
        "outputId": "37fa1564-1802-4807-ccaa-2dac0d3d3319"
      },
      "source": [
        "# Python3 implementation of the approach\n",
        "from collections import defaultdict\n",
        "\n",
        "# This class represents a directed graph\n",
        "# using adjacency list representation\n",
        "class Graph:\n",
        "\n",
        "\t# Constructor\n",
        "\tdef __init__(self):\n",
        "\n",
        "\t\t# Default dictionary to store the graph\n",
        "\t\tself.graph = defaultdict(list)\n",
        "\t\tself.visited = [False]*26\n",
        "\n",
        "\t# Function to add an edge to the graph\n",
        "\tdef addEdge(self, u, v):\n",
        "\t\tself.graph[ord(u)-65].append(ord(v)-65)\n",
        "\n",
        "\t# A function used by DFS\n",
        "\tdef DFSUtil(self, v):\n",
        "\t\t\n",
        "\t\t# Mark the current node as visited\n",
        "\t\t# and print it\n",
        "\t\tself.visited[v]= True\n",
        "\n",
        "\t\t# Recur for all the vertices adjacent\n",
        "\t\t# to this vertex\n",
        "\t\tfor i in self.graph[v]:\n",
        "\t\t\tif self.visited[i] == False:\n",
        "\t\t\t\tself.DFSUtil(i)\n",
        "\n",
        "\n",
        "\t# Function to perform the DFS traversal\n",
        "\t# It uses recursive DFSUtil()\n",
        "\tdef DFS(self, start, M):\n",
        "\t\t\n",
        "\t\t# Total vertices\n",
        "\t\tV = len(self.graph)\n",
        "\t\t\n",
        "\t\t# Call the recursive helper function\n",
        "\t\t# to print the DFS traversal starting\n",
        "\t\t# from all vertices one by one\n",
        "\t\tfor i in range(M):\n",
        "\t\t\tself.DFSUtil(ord(start[i])-65)\n",
        "\t\n",
        "\tdef printOrder(self):\n",
        "\t\tfor i in range(26):\n",
        "\t\t\tif self.visited[i] == True:\n",
        "\t\t\t\tprint(chr(i + 65), end =\" \")\n",
        "\t\tprint(\"\\n\")\n",
        "\n",
        "# Driver code\n",
        "g = Graph()\n",
        "g.addEdge('B', 'A')\n",
        "g.addEdge('B', 'C')\n",
        "g.addEdge('A', 'D')\n",
        "g.addEdge('C', 'D')\n",
        "g.addEdge('E', 'B')\n",
        "\n",
        "g.DFS(['B', 'C'], 2)\n",
        "g.printOrder()\n"
      ],
      "execution_count": null,
      "outputs": [
        {
          "output_type": "stream",
          "text": [
            "A B C D \n",
            "\n"
          ],
          "name": "stdout"
        }
      ]
    },
    {
      "cell_type": "markdown",
      "metadata": {
        "id": "Za_uGQFN1hc_"
      },
      "source": [
        "24. Given a 2D array, arr[][] of size N, each row of which consists of the time required to complete 3 different types of tasks A, B, and C. The row elements arr[i][0], arr[i][1] and arr[i][2] are the time required to complete the ith task of type A, B and C respectively. The task is to find the minimum completion time to complete exactly K tasks from the array based on the following conditions:\n",
        "\n",
        "The same type of task will operate at the same time.\n",
        "Tasks of type B can be performed only when K tasks of type A have already been completed.\n",
        "Tasks of type C can be performed only when K tasks of type B have already been completed.\n",
        "Examples:\n",
        "\n",
        "Input: N = 3, K = 2, arr[][] = {{1, 2, 2}, {3, 4, 1}, {3, 1, 2}}\n",
        "\n",
        "Output: 7 "
      ]
    },
    {
      "cell_type": "code",
      "metadata": {
        "colab": {
          "base_uri": "https://localhost:8080/"
        },
        "id": "n8If93nJ1ehR",
        "outputId": "6e12ac7a-d193-4a21-ec13-287cbd2a4d4d"
      },
      "source": [
        "# Python3 program to implement\n",
        "# the above approach\n",
        "N = 3\n",
        "\n",
        "# Function to get the minimum\n",
        "# completion time to select\n",
        "# exactly K items\n",
        "def MinTime(arr, i, Ta, Tb, Tc, K):\n",
        "\t\n",
        "\t# Base cas\n",
        "\tif (K == 0):\n",
        "\t\treturn Ta + Tb + Tc\n",
        "\tif (i == 0):\n",
        "\t\treturn 10**9\n",
        "\n",
        "\t# Select the ith item\n",
        "\tX = MinTime(arr, i - 1,\n",
        "\t\t\tmax(Ta, arr[i - 1][0]),\n",
        "\t\t\tmax(Tb, arr[i - 1][1]),\n",
        "\t\t\tmax(Tc, arr[i - 1][2]), K -1)\n",
        "\n",
        "\t# Do not select the ith item\n",
        "\tY = MinTime(arr, i - 1,\n",
        "\t\t\t\tTa, Tb, Tc, K)\n",
        "\n",
        "\treturn min(X, Y)\n",
        "\n",
        "# Driver Code\n",
        "if __name__ == '__main__':\n",
        "\t\n",
        "\tK = 2\n",
        "\tn = 3\n",
        "\tarr = [ [ 1, 2, 2 ],\n",
        "\t\t\t[ 3, 4, 1 ],\n",
        "\t\t\t[ 3, 1, 2 ] ]\n",
        "\n",
        "\tprint(MinTime(arr, N, 0, 0, 0, K))\n",
        "\n",
        "\n"
      ],
      "execution_count": null,
      "outputs": [
        {
          "output_type": "stream",
          "text": [
            "7\n"
          ],
          "name": "stdout"
        }
      ]
    },
    {
      "cell_type": "markdown",
      "metadata": {
        "id": "Vrs5xMIW2FRy"
      },
      "source": [
        "25. Given an array arr[] consisting of N positive integers representing the ratings of N children, the task is to find the minimum number of candies required for distributing to N children such that every child gets at least one candy and the children having the higher rating get more candies than its neighbours.\n",
        "\n",
        "Examples:\n",
        "\n",
        "Input: arr[] = {1, 0, 2}\n",
        "Output: 5\n",
        "Explanation:\n",
        "Consider the distribution of candies as {2, 1, 2} that satisfy the given conditions. Therefore, the sum of candies is 2 + 1 + 2 = 5, which is the minimum required candies.\n",
        "\n",
        "Input: arr[] = {1, 2, 2}\n",
        "Output: 4"
      ]
    },
    {
      "cell_type": "code",
      "metadata": {
        "colab": {
          "base_uri": "https://localhost:8080/"
        },
        "id": "LB9bK-Ep2Aw3",
        "outputId": "7976f273-e647-40dc-9555-bea94a9021b7"
      },
      "source": [
        "# Python3 program for the above approach\n",
        "\n",
        "# Function to count the minimum number\n",
        "# of candies that is to be distributed\n",
        "def countCandies(arr, n):\n",
        "\t\n",
        "\t# Stores total count of candies\n",
        "\tsum = 0\n",
        "\n",
        "\t# Stores the amount of candies\n",
        "\t# allocated to a student\n",
        "\tans = [1] * n\n",
        "\n",
        "\t# If the value of N is 1\n",
        "\tif (n == 1):\n",
        "\t\treturn 1\n",
        "\n",
        "\t# Initialize with 1 all array\n",
        "\t# element\n",
        "\t# for (i = 0 i < n i++)\n",
        "\t#\t ans[i] = 1\n",
        "\n",
        "\t# Traverse the array arr[]\n",
        "\tfor i in range(n - 1):\n",
        "\n",
        "\t\t# If arr[i+1] is greater than\n",
        "\t\t# arr[i] and ans[i+1] is\n",
        "\t\t# at most ans[i]\n",
        "\t\tif (arr[i + 1] > arr[i] and\n",
        "\t\t\tans[i + 1] <= ans[i]):\n",
        "\t\t\t\n",
        "\t\t\t# Assign ans[i]+1 to\n",
        "\t\t\t# ans[i+1]\n",
        "\t\t\tans[i + 1] = ans[i] + 1\n",
        "\n",
        "\t# Iterate until i is atleast 0\n",
        "\tfor i in range(n - 2, -1, -1):\n",
        "\t\t\n",
        "\t\t# If arr[i] is greater than\n",
        "\t\t# arr[i+1] and ans[i] is\n",
        "\t\t# at most ans[i+1]\n",
        "\t\tif (arr[i] > arr[i + 1] and\n",
        "\t\t\tans[i] <= ans[i + 1]):\n",
        "\n",
        "\t\t\t# Assign ans[i+1]+1 to\n",
        "\t\t\t# ans[i]\n",
        "\t\t\tans[i] = ans[i + 1] + 1\n",
        "\n",
        "\t\t# If arr[i] is equals arr[i+1]\n",
        "\t\t# and ans[i] is less than\n",
        "\t\t# ans[i+1]\n",
        "\t\telif (arr[i] == arr[i + 1] and\n",
        "\t\t\tans[i] < ans[i + 1]):\n",
        "\n",
        "\t\t\t# Assign ans[i+1]+1 to\n",
        "\t\t\t# ans[i]\n",
        "\t\t\tans[i] = ans[i + 1] + 1\n",
        "\n",
        "\t\t# Increment the sum by ans[i]\n",
        "\t\tsum += ans[i]\n",
        "\n",
        "\tsum += ans[n - 1]\n",
        "\n",
        "\t# Return the resultant sum\n",
        "\treturn sum\n",
        "\n",
        "# Driver Code\n",
        "if __name__ == '__main__':\n",
        "\t\n",
        "\tarr = [ 1, 0, 2 ]\n",
        "\tN = len(arr)\n",
        "\t\n",
        "\tprint (countCandies(arr, N))"
      ],
      "execution_count": null,
      "outputs": [
        {
          "output_type": "stream",
          "text": [
            "5\n"
          ],
          "name": "stdout"
        }
      ]
    },
    {
      "cell_type": "markdown",
      "metadata": {
        "id": "nTpO2FUV-ydZ"
      },
      "source": [
        "26. Given N students and a total of M sets of question paper where M ≤ N. All the M sets are different and every sets is available in sufficient quantity. All the students are sitting in a single row. The task is to find the number of ways to distribute the question paper so that if any M consecutive students are selected then each student has a unique question paper set. The answer could be large, so print the answer modulo 109 + 7. "
      ]
    },
    {
      "cell_type": "code",
      "metadata": {
        "colab": {
          "base_uri": "https://localhost:8080/"
        },
        "id": "8i93lrAf2SoU",
        "outputId": "7ead90ef-25d7-46cb-e540-3144884dc4d2"
      },
      "source": [
        "# Python3 implementation of the approach\n",
        "MOD = 1000000007;\n",
        "\n",
        "# Function to return n! % 1000000007\n",
        "def factMod(n) :\n",
        "\n",
        "\t# To store the factorial\n",
        "\tfact = 1;\n",
        "\n",
        "\t# Find the factorial\n",
        "\tfor i in range(2, n + 1) :\n",
        "\t\tfact *= (i % MOD);\n",
        "\t\tfact %= MOD;\n",
        "\n",
        "\treturn fact;\n",
        "\n",
        "# Function to return the\n",
        "# count of possible ways\n",
        "def countWays(n, m) :\n",
        "\n",
        "\treturn factMod(m);\n",
        "\n",
        "# Driver code\n",
        "if __name__ == \"__main__\" :\n",
        "\n",
        "\tn = 2; m = 2;\n",
        "\n",
        "\tprint(countWays(n, m));\n",
        "\n"
      ],
      "execution_count": null,
      "outputs": [
        {
          "output_type": "stream",
          "text": [
            "2\n"
          ],
          "name": "stdout"
        }
      ]
    },
    {
      "cell_type": "markdown",
      "metadata": {
        "id": "otHPBNCU-82U"
      },
      "source": [
        "27. Given N Chocolates and K students, the task is to find how to divide the chocolates such that the difference between the minimum and maximum chocolate received by all students is minimized. Print the value of minimum and maximum chocolate distribution. "
      ]
    },
    {
      "cell_type": "code",
      "metadata": {
        "colab": {
          "base_uri": "https://localhost:8080/"
        },
        "id": "9_gkB4wi-6Tz",
        "outputId": "fa2461a8-e745-460d-8f89-2f6e0560cbce"
      },
      "source": [
        "# Python implementation of the above approach\n",
        "\n",
        "n, k = 7, 3\n",
        "if(n % k == 0):\n",
        "\tprint(n//k, n//k)\n",
        "\n",
        "else:\n",
        "\tprint((n-n % k)//k, (n-n % k)//k + 1)\n"
      ],
      "execution_count": null,
      "outputs": [
        {
          "output_type": "stream",
          "text": [
            "2 3\n"
          ],
          "name": "stdout"
        }
      ]
    },
    {
      "cell_type": "markdown",
      "metadata": {
        "id": "JTX6UtRB_KmM"
      },
      "source": [
        "28. Given two integers N and C, representing the number of boys and candies, and an integer K, the task is to calculate the maximum and the minimum number of candies received by any boy such that the difference between them is K.\n",
        "\n",
        "Examples:\n",
        "Input: N = 4, C = 12, K = 3\n",
        "Output:\n",
        "Maximum = 5\n",
        "Minimum = 2 "
      ]
    },
    {
      "cell_type": "code",
      "metadata": {
        "colab": {
          "base_uri": "https://localhost:8080/"
        },
        "id": "D5KfHGZ6_GId",
        "outputId": "ea6a62fb-9d6b-4caf-bd90-071402fd4a67"
      },
      "source": [
        "# Python3 program for the above approach\n",
        "\n",
        "# Function to calculate the\n",
        "# maximum and minimum number\n",
        "# of candies a boy can possess\n",
        "def max_min(N, C, K):\n",
        "\t\n",
        "\tmaximum = 0\n",
        "\tminimum = 0\n",
        "\t\n",
        "\tif (N == 1):\n",
        "\t\t\n",
        "\t\t# All candies will be\n",
        "\t\t# given to one boy\n",
        "\t\tmaximum = minimum = C\n",
        "\n",
        "\telif (K >= C):\n",
        "\t\t\n",
        "\t\t# All the candies will\n",
        "\t\t# be given to 1 boy\n",
        "\t\tmaximum = C\n",
        "\t\tminimum = 0\n",
        "\n",
        "\telse:\n",
        "\t\t\n",
        "\t\t# Give K candies to 1st\n",
        "\t\t# boy initially\n",
        "\t\tmaximum = K\n",
        "\t\tminimum = 0\n",
        "\n",
        "\t\t# Count remaining candies\n",
        "\t\tremain_candy = C - K\n",
        "\n",
        "\t\tmaximum += remain_candy // N\n",
        "\t\tminimum = remain_candy // N\n",
        "\n",
        "\t# If the last candy of remaining candies\n",
        "\t# is given to the last boy, i.e Nth boy\n",
        "\tif (remain_candy % N == N - 1):\n",
        "\t\t\n",
        "\t\t# Increase minimum count\n",
        "\t\tminimum += 1\n",
        "\n",
        "\tprint(\"Maximum = {}\".format(maximum))\n",
        "\tprint(\"Minimum = {}\".format(minimum))\n",
        "\n",
        "# Driver code\n",
        "N = 4\n",
        "C = 12\n",
        "K = 3\n",
        "\n",
        "max_min(N, C, K)\n",
        "\n"
      ],
      "execution_count": null,
      "outputs": [
        {
          "output_type": "stream",
          "text": [
            "Maximum = 5\n",
            "Minimum = 2\n"
          ],
          "name": "stdout"
        }
      ]
    },
    {
      "cell_type": "markdown",
      "metadata": {
        "id": "R6K8QWi3_S4k"
      },
      "source": [
        "29. There are n boys and n girls are to be seated around a round table, in a circle. The task is to find the number of ways in which n boys and n girls can sit alternatively around a round table. Given n<10\n",
        "Examples: \n",
        " \n",
        "\n",
        "Input: n = 5 \n",
        "Output: 2880\n",
        "\n",
        "Input: n = 1\n",
        "Output: 1"
      ]
    },
    {
      "cell_type": "code",
      "metadata": {
        "colab": {
          "base_uri": "https://localhost:8080/"
        },
        "id": "EQPjeWRg_PfJ",
        "outputId": "28707b11-86af-4dd4-92c5-5ab384c69421"
      },
      "source": [
        "# Python3 program to find number\n",
        "# of ways in which n boys and n\n",
        "# girls can sit alternatively\n",
        "# sound a round table.\n",
        "\n",
        "# Get n\n",
        "n = 5\n",
        "\n",
        "# find fac1 = (n-1)!\n",
        "fac1 = 1\n",
        "for i in range(2, n):\n",
        "\tfac1 = fac1 * i\n",
        "\n",
        "# Find fac2 = n!\n",
        "fac2 = fac1 * n\n",
        "\n",
        "# Find total number of ways\n",
        "totalWays = fac1 * fac2\n",
        "\n",
        "# Print the total number of ways\n",
        "print(totalWays)\n",
        "\n",
        "\n"
      ],
      "execution_count": null,
      "outputs": [
        {
          "output_type": "stream",
          "text": [
            "2880\n"
          ],
          "name": "stdout"
        }
      ]
    },
    {
      "cell_type": "markdown",
      "metadata": {
        "id": "q9ZT4YX7_eaJ"
      },
      "source": [
        "30. Given an array, the task is to shift the middle element to the start and end of the array alternatively, till the middle element becomes equal to the first element of the original array.\n",
        "\n",
        "Input: arr[]=[2, 8, 5, 9, 10]\n",
        "Output: [9, 5, 2, 10, 8]\n",
        "Explanation: We can get this output by shifting middle element\n",
        "step1: middle element 5 is shifted to front of array [5, 2, 8, 9, 10]\n",
        "step2: middle element 8 is shifted to end of array [5, 2, 9, 10, 8]\n",
        "step3: middle element 9 is shifted to front of array [9, 5, 2, 10, 8] "
      ]
    },
    {
      "cell_type": "code",
      "metadata": {
        "colab": {
          "base_uri": "https://localhost:8080/"
        },
        "id": "An7m3xRC_bf3",
        "outputId": "1bc8a088-54f2-4e70-877e-52e82adbfe04"
      },
      "source": [
        "# Function for shifting middle element.\n",
        "def AlternateShift(arr, x):\n",
        "\n",
        "\t# get middle index\n",
        "\tmid = len(arr) // 2\n",
        "\n",
        "\t# initialize c to 0\n",
        "\tc = 0\n",
        "\n",
        "\t# Shift middle element\n",
        "\t# till its value not equals to x.\n",
        "\twhile arr[mid] != x:\n",
        "\n",
        "\t\t# pop middle element\n",
        "\t\tz = arr.pop(mid)\n",
        "\n",
        "\t\t# if c is even then insert z\n",
        "\t\t# at start of the array\n",
        "\t\tif c % 2 == 0:\n",
        "\t\t\tarr.insert(0, z)\n",
        "\n",
        "\t\t# if c is odd then insert z\n",
        "\t\t# at end of the array\n",
        "\t\telse:\n",
        "\t\t\tarr.append(z)\n",
        "\n",
        "\t\t# increment count c\n",
        "\t\tc += 1\n",
        "\n",
        "\n",
        "Arr = [2, 8, 5, 9, 10]\n",
        "\n",
        "# initialize a to zero index array value\n",
        "a = Arr[0]\n",
        "\n",
        "# call AlternateShift function\n",
        "AlternateShift(Arr, a)\n",
        "\n",
        "# print the changed array Unpacking array\n",
        "print(*Arr)\n"
      ],
      "execution_count": null,
      "outputs": [
        {
          "output_type": "stream",
          "text": [
            "9 5 2 10 8\n"
          ],
          "name": "stdout"
        }
      ]
    },
    {
      "cell_type": "markdown",
      "metadata": {
        "id": "J-OnLu6FAWLV"
      },
      "source": [
        "31. Given a permutation P of size N, having values from 1 to N. the task is to find the minimum number of adjacent swaps required such that for all i in the range [1, N], P[i] does not equal i.\n",
        "Examples: \n",
        " \n",
        "\n",
        "Input: P = [1, 4, 3, 5, 2] \n",
        "Output: 2 "
      ]
    },
    {
      "cell_type": "code",
      "metadata": {
        "colab": {
          "base_uri": "https://localhost:8080/"
        },
        "id": "mnyqsFJ-AUGz",
        "outputId": "1630c813-0f40-4efe-a606-63bdec7fddbf"
      },
      "source": [
        "# Python3 program for the above approach\n",
        "\n",
        "# Function to find the minimum\n",
        "# number of swaps\n",
        "def solve(P, n):\n",
        "\n",
        "\t# New array to convert\n",
        "\t# to 1-based indexing\n",
        "\tarr = []\n",
        "\n",
        "\tarr.append(0)\n",
        "\n",
        "\tfor x in P:\n",
        "\t\tarr.append(x)\n",
        "\n",
        "\t# Keeps count of swaps\n",
        "\tcnt = 0\n",
        "\n",
        "\tfor i in range(1, n):\n",
        "\n",
        "\t\t# Check if it is an 'X' position\n",
        "\t\tif (arr[i] == i):\n",
        "\t\t\tarr[i], arr[i + 1] = arr[i + 1], arr[i]\n",
        "\t\t\tcnt += 1\n",
        "\n",
        "\t# Corner Case\n",
        "\tif (arr[n] == n):\n",
        "\t\tarr[n - 1], arr[n] = arr[n] , arr[n - 1]\n",
        "\t\tcnt += 1\n",
        "\n",
        "\t# Print the minimum swaps\n",
        "\tprint(cnt)\n",
        "\n",
        "# Driver Code\n",
        "\n",
        "# Given number N\n",
        "N = 9\n",
        "\n",
        "# Given permutation of N numbers\n",
        "P = [ 1, 2, 4, 9, 5,\n",
        "\t8, 7, 3, 6 ]\n",
        "\n",
        "# Function call\n",
        "solve(P, N)\n",
        "\n"
      ],
      "execution_count": null,
      "outputs": [
        {
          "output_type": "stream",
          "text": [
            "3\n"
          ],
          "name": "stdout"
        }
      ]
    },
    {
      "cell_type": "markdown",
      "metadata": {
        "id": "lP0VTK04AsCX"
      },
      "source": [
        "32. Given a matrix, mat[][] of size N × N, the task is to minimize the count of adjacent row swaps to convert the given matrix to a lower triangular matrix. If it is not possible to convert the given matrix to a lower triangular matrix, then print -1. \n",
        "Note: A lower triangular matrix contains 0s at all the indices above the main diagonal.\n",
        "\n",
        "Examples:\n",
        "\n",
        "Input: mat[][] = {{0, 0, 2}, {3, 1, 0}, {4, 0, 0}}\n",
        "Output: 3"
      ]
    },
    {
      "cell_type": "code",
      "metadata": {
        "colab": {
          "base_uri": "https://localhost:8080/"
        },
        "id": "ostvp5ghAqDP",
        "outputId": "615d7fbd-af4a-4870-e6cb-ed3cff81e409"
      },
      "source": [
        "# Python3 program to implement\n",
        "# the above approach\n",
        "\n",
        "# Function to count the minimum\n",
        "# number of adjacent swaps\n",
        "def minAdjSwaps(mat):\n",
        "\t\n",
        "\t# Stores the size of\n",
        "\t# the given matrix\n",
        "\tN = len(mat)\n",
        "\n",
        "\t# Stores the count of zero\n",
        "\t# at the end of each row\n",
        "\tcntZero = [0] * (N)\n",
        "\n",
        "\t# Traverse the given matrix\n",
        "\tfor i in range(N):\n",
        "\n",
        "\t\t# Count of 0s at the end\n",
        "\t\t# of the ith row\n",
        "\t\tfor j in range(N - 1, -1, -1):\n",
        "\t\t\tif mat[i][j] != 0:\n",
        "\t\t\t\tbreak\n",
        "\t\t\t\n",
        "\t\t\tcntZero[i] += 1\n",
        "\n",
        "\t# Stores the count of swaps\n",
        "\tcntSwaps = 0\n",
        "\n",
        "\t# Traverse the cntZero array\n",
        "\tfor i in range(N):\n",
        "\n",
        "\t\t# If count of zero in the\n",
        "\t\t# i-th row < (N - i - 1)\n",
        "\t\tif (cntZero[i] < (N - i - 1)):\n",
        "\n",
        "\t\t\t# Stores the index of the row\n",
        "\t\t\t# where count of zero > (N-i-1)\n",
        "\t\t\tFirst = i\n",
        "\t\t\t\n",
        "\t\t\twhile (First < N and\n",
        "\t\tcntZero[First] < (N - i - 1)):\n",
        "\t\t\t\tFirst += 1\n",
        "\n",
        "\t\t\t# If no row found that\n",
        "\t\t\t# satisfy the condition\n",
        "\t\t\tif (First == N):\n",
        "\t\t\t\treturn -1\n",
        "\n",
        "\t\t\t# Swap the adjacent row\n",
        "\t\t\twhile (First > i):\n",
        "\t\t\t\tcntZero[First] = cntZero[First - 1]\n",
        "\t\t\t\tcntZero[First - 1] = cntZero[First]\n",
        "\t\t\t\t\n",
        "\t\t\t\tFirst -= 1\n",
        "\t\t\t\tcntSwaps += 1\n",
        "\t\t\t\t\n",
        "\treturn cntSwaps\n",
        "\n",
        "# Driver Code\n",
        "if __name__ == '__main__':\n",
        "\t\n",
        "\tmat = [ [ 0, 0, 2 ],\n",
        "\t\t\t[ 3, 1, 0 ],\n",
        "\t\t\t[ 4, 0, 0 ] ]\n",
        "\t\t\t\n",
        "\tprint(minAdjSwaps(mat))\n",
        "\n",
        "# This code is contributed by mohit kumar 29\n"
      ],
      "execution_count": null,
      "outputs": [
        {
          "output_type": "stream",
          "text": [
            "3\n"
          ],
          "name": "stdout"
        }
      ]
    },
    {
      "cell_type": "markdown",
      "metadata": {
        "id": "eV5iUPIMA1RF"
      },
      "source": [
        "33. Given a binary matrix M[][] of dimensions N x N, the task is to make every pair of adjacent cells in the same row or column of the given matrix distinct by swapping the minimum number of rows or columns.\n",
        "\n",
        "Examples\n",
        "\n",
        "Input: M[][] = {{0, 1, 1, 0}, {0, 1, 1, 0}, {1, 0, 0, 1}, {1, 0, 0, 1}}, N = 4\n",
        "Output: 2\n",
        "Explanation: \n",
        "Step 1: Swapping the 2nd and 3rd rows modifies matrix to the following representation: \n",
        "M[][] = { { 0, 1, 1, 0}, \n",
        "{ 1, 0, 0, 1}, \n",
        "{ 0, 1, 1, 0}, \n",
        "{ 1, 0, 0, 1} }\n",
        "Step 1: Swapping the 1st and 2nd columns modifies matrix to the following representation: \n",
        "M[][] = { { 1, 0, 1, 0}, \n",
        "{ 0, 1, 0, 1}, \n",
        "{ 1, 0, 1, 0}, \n",
        "{ 0, 1, 0, 1} } \n",
        "\n",
        "Input: M[][] = {{0, 1, 1}, {1, 1, 0}, {1, 0, 0}, {1, 1, 1}}, N = 3\n",
        "Output: -1"
      ]
    },
    {
      "cell_type": "code",
      "metadata": {
        "colab": {
          "base_uri": "https://localhost:8080/"
        },
        "id": "91_y19goAzyo",
        "outputId": "4b98be2e-10ce-4bd9-e5e8-a2077a895501"
      },
      "source": [
        "# Python3 program for the above approach\n",
        "\n",
        "# Function to return number of moves\n",
        "# to convert matrix into chessboard\n",
        "def minSwaps(b):\n",
        "\n",
        "\t# Size of the matrix\n",
        "\tn = len(b)\n",
        "\n",
        "\t# Traverse the matrix\n",
        "\tfor i in range(n):\n",
        "\t\tfor j in range(n):\n",
        "\t\t\tif (b[0][0] ^ b[0][j] ^\n",
        "\t\t\t\tb[i][0] ^ b[i][j]):\n",
        "\t\t\t\treturn -1\n",
        "\n",
        "\t# Initialize rowSum to count 1s in row\n",
        "\trowSum = 0\n",
        "\n",
        "\t# Initialize colSum to count 1s in column\n",
        "\tcolSum = 0\n",
        "\n",
        "\t# To store no. of rows to be corrected\n",
        "\trowSwap = 0\n",
        "\n",
        "\t# To store no. of columns to be corrected\n",
        "\tcolSwap = 0\n",
        "\n",
        "\t# Traverse in the range [0, N-1]\n",
        "\tfor i in range(n):\n",
        "\t\trowSum += b[i][0]\n",
        "\t\tcolSum += b[0][i]\n",
        "\t\trowSwap += b[i][0] == i % 2\n",
        "\t\tcolSwap += b[0][i] == i % 2\n",
        "\n",
        "\t# Check if rows is either N/2 or\n",
        "\t# (N+1)/2 and return -1\n",
        "\tif (rowSum != n // 2 and\n",
        "\t\trowSum != (n + 1) // 2):\n",
        "\t\treturn -1\n",
        "\n",
        "\t# Check if rows is either N/2\n",
        "\t# or (N+1)/2 and return -1\n",
        "\tif (colSum != n // 2 and\n",
        "\t\tcolSum != (n + 1) // 2):\n",
        "\t\treturn -1\n",
        "\n",
        "\t# Check if N is odd\n",
        "\tif (n % 2 == 1):\n",
        "\n",
        "\t\t# Check if column required to be\n",
        "\t\t# corrected is odd and then\n",
        "\t\t# assign N-colSwap to colSwap\n",
        "\t\tif (colSwap % 2):\n",
        "\t\t\tcolSwap = n - colSwap\n",
        "\n",
        "\t\t# Check if rows required to\n",
        "\t\t# be corrected is odd and then\n",
        "\t\t# assign N-rowSwap to rowSwap\n",
        "\t\tif (rowSwap % 2):\n",
        "\t\t\trowSwap = n - rowSwap\n",
        "\n",
        "\telse:\n",
        "\n",
        "\t\t# Take min of colSwap and N-colSwap\n",
        "\t\tcolSwap = min(colSwap, n - colSwap)\n",
        "\n",
        "\t\t# Take min of rowSwap and N-rowSwap\n",
        "\t\trowSwap = min(rowSwap, n - rowSwap)\n",
        "\n",
        "\t# Finally return answer\n",
        "\treturn (rowSwap + colSwap) // 2\n",
        "\n",
        "# Driver Code\n",
        "if __name__ == \"__main__\":\n",
        "\n",
        "\t# Given matrix\n",
        "\tM = [ [ 0, 1, 1, 0 ],\n",
        "\t\t[ 0, 1, 1, 0 ],\n",
        "\t\t[ 1, 0, 0, 1 ],\n",
        "\t\t[ 1, 0, 0, 1 ] ]\n",
        "\n",
        "\t# Function Call\n",
        "\tans = minSwaps(M)\n",
        "\n",
        "\t# Print answer\n",
        "\tprint(ans)\n",
        "\n"
      ],
      "execution_count": null,
      "outputs": [
        {
          "output_type": "stream",
          "text": [
            "2\n"
          ],
          "name": "stdout"
        }
      ]
    },
    {
      "cell_type": "markdown",
      "metadata": {
        "id": "GvaXTgJ4BksT"
      },
      "source": [
        "34. Given a binary matrix, the task is to find whether row swaps or column swaps give maximum size sub-matrix with all 1’s. In a row swap, we are allowed to swap any two rows. In a column swap we are allowed to swap any two columns. Output “Row Swap” or “Column Swap” and the maximum size.\n",
        "\n",
        "Examples:\n",
        "\n",
        "Input : 1 1 1\n",
        "        1 0 1\n",
        "Output : Column Swap\n",
        "         4\n",
        "By swapping column 1 and column 2(0-based indexing), \n",
        "index (0, 0) to (1, 1) makes the largest binary \n",
        "sub-matrix."
      ]
    },
    {
      "cell_type": "code",
      "metadata": {
        "colab": {
          "base_uri": "https://localhost:8080/"
        },
        "id": "aRSj72trBatj",
        "outputId": "376312a7-0b3d-4b04-c990-5d53950c3121"
      },
      "source": [
        "# Python3 program to find maximum binary\n",
        "# sub-matrix with row swaps and column swaps.\n",
        "R, C = 5, 3\n",
        "\n",
        "# Precompute the number of consecutive 1\n",
        "# below the (i, j) in j-th column and the\n",
        "# number of consecutive 1s on right side\n",
        "# of (i, j) in i-th row.\n",
        "def precompute(mat, ryt, dwn):\n",
        "\n",
        "\t# Travesing the 2d matrix from top-right.\n",
        "\tfor j in range(C - 1, -1, -1):\n",
        "\t\n",
        "\t\tfor i in range(0, R):\n",
        "\t\t\n",
        "\t\t\t# If (i,j) contain 0, do nothing\n",
        "\t\t\tif mat[i][j] == 0:\n",
        "\t\t\t\tryt[i][j] = 0\n",
        "\n",
        "\t\t\t# Counting consecutive 1 on right side\n",
        "\t\t\telse:\n",
        "\t\t\t\tryt[i][j] = ryt[i][j + 1] + 1\n",
        "\t\t\n",
        "\t# Travesing the 2d matrix from bottom-left.\n",
        "\tfor i in range(R - 1, -1, -1):\n",
        "\t\n",
        "\t\tfor j in range(0, C):\n",
        "\t\t\n",
        "\t\t\t# If (i,j) contain 0, do nothing\n",
        "\t\t\tif mat[i][j] == 0:\n",
        "\t\t\t\tdwn[i][j] = 0\n",
        "\n",
        "\t\t\t# Counting consecutive 1 down to (i,j).\n",
        "\t\t\telse:\n",
        "\t\t\t\tdwn[i][j] = dwn[i + 1][j] + 1\n",
        "\n",
        "# Return maximum size submatrix\n",
        "# with row swap allowed.\n",
        "def solveRowSwap(ryt):\n",
        "\n",
        "\tb = [0] * R\n",
        "\tans = 0\n",
        "\n",
        "\tfor j in range(0, C):\n",
        "\t\n",
        "\t\t# Copying the column\n",
        "\t\tfor i in range(0, R):\n",
        "\t\t\tb[i] = ryt[i][j]\n",
        "\n",
        "\t\t# Sort the copied array\n",
        "\t\tb.sort()\n",
        "\n",
        "\t\t# Find maximum submatrix size.\n",
        "\t\tfor i in range(0, R):\n",
        "\t\t\tans = max(ans, b[i] * (R - i))\n",
        "\t\n",
        "\treturn ans\n",
        "\n",
        "# Return maximum size submatrix\n",
        "# with column swap allowed.\n",
        "def solveColumnSwap(dwn):\n",
        "\n",
        "\tb = [0] * C\n",
        "\tans = 0\n",
        "\n",
        "\tfor i in range(0, R):\n",
        "\t\n",
        "\t\t# Copying the row.\n",
        "\t\tfor j in range(0, C):\n",
        "\t\t\tb[j] = dwn[i][j]\n",
        "\n",
        "\t\t# Sort the copied array\n",
        "\t\tb.sort()\n",
        "\n",
        "\t\t# Find maximum submatrix size.\n",
        "\t\tfor i in range(0, C):\n",
        "\t\t\tans = max(ans, b[i] * (C - i))\n",
        "\t\n",
        "\treturn ans\n",
        "\n",
        "def findMax1s(mat):\n",
        "\n",
        "\tryt = [[0 for i in range(C + 2)]\n",
        "\t\t\tfor j in range(R + 2)]\n",
        "\tdwn = [[0 for i in range(C + 2)]\n",
        "\t\t\tfor j in range(R + 2)]\n",
        "\t\n",
        "\tprecompute(mat, ryt, dwn)\n",
        "\n",
        "\t# Solving for row swap and column swap\n",
        "\trswap = solveRowSwap(ryt)\n",
        "\tcswap = solveColumnSwap(dwn)\n",
        "\n",
        "\t# Comparing both.\n",
        "\tif rswap > cswap: print(\"Row Swap\\n\", rswap)\n",
        "\telse: print(\"Column Swap\\n\", cswap)\n",
        "\n",
        "# Driver Code\n",
        "if __name__ == \"__main__\":\n",
        "\n",
        "\tmat = [[0, 0, 0],\n",
        "\t\t[1, 1, 0],\n",
        "\t\t[1, 1, 0],\n",
        "\t\t[0, 0, 0],\n",
        "\t\t[1, 1, 0]]\n",
        "\n",
        "\tfindMax1s(mat)\n",
        "\t\n"
      ],
      "execution_count": null,
      "outputs": [
        {
          "output_type": "stream",
          "text": [
            "Row Swap\n",
            " 6\n"
          ],
          "name": "stdout"
        }
      ]
    },
    {
      "cell_type": "markdown",
      "metadata": {
        "id": "R62EEc_rB9Av"
      },
      "source": [
        "35. Given a binary matrix of R rows and C columns. We are allowed flip to any size of sub matrix. Flipping means changing 1 to 0 and 0 to 1. The task is maximize the number of 1s in the matrix. Output the maximum number of 1s. "
      ]
    },
    {
      "cell_type": "code",
      "metadata": {
        "colab": {
          "base_uri": "https://localhost:8080/"
        },
        "id": "8ffXnD2rBpIv",
        "outputId": "324eed52-0169-4143-e6ca-6cd955e8f9c0"
      },
      "source": [
        "# Python 3 program to find maximum number of\n",
        "# ones after one flipping in Binary Matrix\n",
        "R = 3\n",
        "C = 3\n",
        "\n",
        "# Return number of ones in square submatrix\n",
        "# of size k x k starting from (x, y)\n",
        "def cal(ones, x, y, k):\n",
        "\treturn (ones[x + k - 1][y + k - 1] -\n",
        "\t\t\tones[x - 1][y + k - 1] -\n",
        "\t\t\tones[x + k - 1][y - 1] +\n",
        "\t\t\tones[x - 1][y - 1])\n",
        "\n",
        "# Return maximum number of 1s after\n",
        "# flipping a submatrix\n",
        "def sol(mat):\n",
        "\tans = 0\n",
        "\n",
        "\t# Precomputing the number of 1s\n",
        "\tones = [[0 for i in range(C + 1)]\n",
        "\t\t\tfor i in range(R + 1)]\n",
        "\tfor i in range(1, R + 1, 1):\n",
        "\t\tfor j in range(1, C + 1, 1):\n",
        "\t\t\tones[i][j] = (ones[i - 1][j] + ones[i][j - 1] -\n",
        "\t\t\t\t\t\tones[i - 1][j - 1] +\n",
        "\t\t\t\t\t\t(mat[i - 1][j - 1] == 1))\n",
        "\n",
        "\t# Finding the maximum number of 1s\n",
        "\t# after flipping\n",
        "\tfor k in range(1, min(R, C) + 1, 1):\n",
        "\t\tfor i in range(1, R - k + 2, 1):\n",
        "\t\t\tfor j in range(1, C - k + 2, 1):\n",
        "\t\t\t\tans = max(ans, (ones[R][C] + k * k - 2 *\n",
        "\t\t\t\t\t\t\tcal(ones, i, j, k)))\n",
        "\treturn ans\n",
        "\n",
        "# Driver code\n",
        "if __name__ == '__main__':\n",
        "\tmat = [[0, 0, 1],\n",
        "\t\t[0, 0, 1],\n",
        "\t\t[1, 0, 1]]\n",
        "\n",
        "\tprint(sol(mat))\n"
      ],
      "execution_count": null,
      "outputs": [
        {
          "output_type": "stream",
          "text": [
            "8\n"
          ],
          "name": "stdout"
        }
      ]
    },
    {
      "cell_type": "markdown",
      "metadata": {
        "id": "Y2f3FnP8YtHr"
      },
      "source": [
        "36. Given two binary matrices, A[][] and B[][] of N×M. In a single operation, one can choose a sub-matrix (min of 2 rows and 2c columns) and change the parity of the corner elements i.e. 1 can be changed to a 0, and 0 can be changed to a 1. The task is to check if the matrix A can be converted to B using any number of operations. "
      ]
    },
    {
      "cell_type": "code",
      "metadata": {
        "colab": {
          "base_uri": "https://localhost:8080/"
        },
        "id": "q6j0nId4Yq7j",
        "outputId": "4f3cce0c-9bfd-474a-f11e-1541abe9b573"
      },
      "source": [
        "# Python 3 implementation of the\n",
        "# above approach\n",
        "N = 3\n",
        "M = 3\n",
        "\n",
        "# Boolean function that returns\n",
        "# true or false\n",
        "def check(a, b):\n",
        "\t\n",
        "\t# Traverse for all elements\n",
        "\tfor i in range(1, N, 1):\n",
        "\t\tfor j in range(1, M, 1):\n",
        "\t\t\t\n",
        "\t\t\t# If both are not equal\n",
        "\t\t\tif (a[i][j] != b[i][j]):\n",
        "\t\t\t\t\n",
        "\t\t\t\t# Change the parity of\n",
        "\t\t\t\t# all corner elements\n",
        "\t\t\t\ta[i][j] ^= 1\n",
        "\t\t\t\ta[0][0] ^= 1\n",
        "\t\t\t\ta[0][j] ^= 1\n",
        "\t\t\t\ta[i][0] ^= 1\n",
        "\n",
        "\t# Check if A is equal to B\n",
        "\tfor i in range(N):\n",
        "\t\tfor j in range(M):\n",
        "\t\t\t\n",
        "\t\t\t# Not equal\n",
        "\t\t\tif (a[i][j] != b[i][j]):\n",
        "\t\t\t\treturn False\n",
        "\t\n",
        "\treturn True\n",
        "\n",
        "# Driver Code\n",
        "if __name__ == '__main__':\n",
        "\t\n",
        "\t# First binary matrix\n",
        "\ta = [[0, 1, 0],\n",
        "\t\t[0, 1, 0],\n",
        "\t\t[1, 0, 0]]\n",
        "\n",
        "\t# Second binary matrix\n",
        "\tb = [[1, 0, 0],\n",
        "\t\t[1, 0, 0],\n",
        "\t\t[1, 0, 0]]\n",
        "\n",
        "\tif (check(a, b)):\n",
        "\t\tprint(\"Yes\")\n",
        "\telse:\n",
        "\t\tprint(\"No\")\n",
        "\n"
      ],
      "execution_count": null,
      "outputs": [
        {
          "output_type": "stream",
          "text": [
            "Yes\n"
          ],
          "name": "stdout"
        }
      ]
    },
    {
      "cell_type": "markdown",
      "metadata": {
        "id": "cUvsQX19Y8wV"
      },
      "source": [
        "37. Given an N*N binary matrix arr[][], the task is to check if the matrix contains a square of at least size 2 x 2 whose boundaries are made up of only 0s.\n",
        "\n",
        "Examples:  \n",
        "\n",
        "Input: \n",
        "arr[][] = { \n",
        "{1, 1, 1, 0, 1, 0}, \n",
        "{0, 0, 0, 0, 0, 1}, \n",
        "{0, 1, 1, 1, 0, 1}, \n",
        "{0, 0, 0, 1, 0, 1}, \n",
        "{0, 1, 1, 1, 0, 1}, \n",
        "{0, 0, 0, 0, 0, 1} \n",
        "} \n",
        "Output: True "
      ]
    },
    {
      "cell_type": "code",
      "metadata": {
        "colab": {
          "base_uri": "https://localhost:8080/"
        },
        "id": "JAiQB5U9Y6iz",
        "outputId": "684f4b31-b675-4c4a-955e-af3796eed8f6"
      },
      "source": [
        "# Python3 implementation of the above approach\n",
        "\n",
        "# Function checks if square\n",
        "# with all 0's in boundary\n",
        "# exists in the matrix\n",
        "def squareOfZeroes():\n",
        "\t\n",
        "\tglobal matrix, cache\n",
        "\tlastIdx = len(matrix) - 1\n",
        "\t\n",
        "\treturn hasSquareOfZeroes(0, 0, lastIdx,\n",
        "\t\t\t\t\t\t\t\tlastIdx)\n",
        "\n",
        "# Function iterate inward in\n",
        "# the matrix and checks the\n",
        "# square obtained and memoize/cache\n",
        "# the result to avoid duplicate computation\n",
        "\n",
        "# r1 is the top row,\n",
        "# c1 is the left col\n",
        "# r2 is the bottom row,\n",
        "# c2 is the right\n",
        "def hasSquareOfZeroes(r1, c1, r2, c2):\n",
        "\t\n",
        "\tglobal matrix, cache\n",
        "\n",
        "\tif (r1 >= r2 or c1 >= c2):\n",
        "\t\treturn False\n",
        "\t\t\n",
        "\tkey = (str(r1) + '-' + str(c1) + '-' +\n",
        "\t\tstr(r2) + '-' + str(c2))\n",
        "\n",
        "\tif (key in cache):\n",
        "\t\treturn cache[key]\n",
        "\n",
        "\tcache[key] = (isSquareOfZeroes(r1, c1, r2, c2) or\n",
        "\t\t\t\thasSquareOfZeroes(r1 + 1, c1 + 1,\n",
        "\t\t\t\t\t\t\t\tr2 - 1, c2 - 1))\n",
        "\tcache[key] = (cache[key] or\n",
        "\t\t\t\thasSquareOfZeroes(r1, c1 + 1,\n",
        "\t\t\t\t\t\t\t\t\t\tr2 - 1, c2) or\n",
        "\t\t\t\thasSquareOfZeroes(r1 + 1, c1,\n",
        "\t\t\t\t\t\t\t\tr2, c2 - 1))\n",
        "\tcache[key] = (cache[key] or\n",
        "\t\t\t\thasSquareOfZeroes(r1 + 1, c1 + 1,\n",
        "\t\t\t\t\t\t\t\t\tr2, c2) or\n",
        "\t\t\t\thasSquareOfZeroes(r1, c1, r2 - 1,\n",
        "\t\t\t\t\t\t\t\t\t\t\tc2 - 1))\n",
        "\n",
        "\treturn cache[key]\n",
        "\n",
        "# Function checks if the\n",
        "# boundary of the square\n",
        "# consists of 0's\n",
        "def isSquareOfZeroes(r1, c1, r2, c2):\n",
        "\t\n",
        "\tglobal matrix\n",
        "\n",
        "\tfor row in range(r1, r2 + 1):\n",
        "\t\tif (matrix[row][c1] != 0 or\n",
        "\t\t\tmatrix[row][c2] != 0):\n",
        "\t\t\treturn False\n",
        "\t\t\t\n",
        "\tfor col in range(c1, c2 + 1):\n",
        "\t\tif (matrix[r1][col] != 0 or\n",
        "\t\t\tmatrix[r2][col] != 0):\n",
        "\t\t\treturn False\n",
        "\n",
        "\treturn True\n",
        "\n",
        "# Driver Code\n",
        "if __name__ == '__main__':\n",
        "\t\n",
        "\tcache = {}\n",
        "\tmatrix = [ [ 1, 1, 1, 0, 1, 0 ],\n",
        "\t\t\t[ 0, 0, 0, 0, 0, 1 ],\n",
        "\t\t\t[ 0, 1, 1, 1, 0, 1 ],\n",
        "\t\t\t[ 0, 0, 0, 1, 0, 1 ],\n",
        "\t\t\t[ 0, 1, 1, 1, 0, 1 ],\n",
        "\t\t\t[ 0, 0, 0, 0, 0, 1 ] ]\n",
        "\n",
        "\tans = squareOfZeroes()\n",
        "\n",
        "\tif (ans == 1):\n",
        "\t\tprint(\"True\")\n",
        "\telse:\n",
        "\t\tprint(\"False\")\n",
        "\n"
      ],
      "execution_count": null,
      "outputs": [
        {
          "output_type": "stream",
          "text": [
            "True\n"
          ],
          "name": "stdout"
        }
      ]
    },
    {
      "cell_type": "markdown",
      "metadata": {
        "id": "ARMIuQxkZNsZ"
      },
      "source": [
        "38. Suppose a matrix of size N X N which contain concentric square submatrices centered at (xi, yi), where xi is the row number of center of ith concentric square matrix and yi is the column number of center of ith concentric square matrix. Concentric square matrix is of the form: \n",
        " \n",
        "\n",
        "0 0 0 0 0 0 0 0 0\n",
        "\n",
        "0 1 1 1 1 1 1 1 0\n",
        "\n",
        "0 1 . . . . . 1 0 \n",
        "\n",
        "0 1 . b b b . 1 0\n",
        "\n",
        "0 1 . b a b . 1 0\n",
        "\n",
        "0 1 . b b b . 1 0\n",
        "\n",
        "0 1 . . . . . 1 0\n",
        "\n",
        "0 1 1 1 1 1 1 1 0\n",
        "\n",
        "0 0 0 0 0 0 0 0 0\n",
        "\n",
        "where a is the center, b is a – 1, and the value will decrease as row or column increase.\n",
        "Since there are multiple such sub-matrix, there are cells which are parts of more than one such submatrix. Those cells will have the value equal to the sum of values of intersecting submatrix. Given the value of N, m, (xi, yi, ai), where 1 <= i <= m and ai is the value at the center of ith concentric sub-matrix. The task is to find the maximum value in the matrix containing submatrices. "
      ]
    },
    {
      "cell_type": "code",
      "metadata": {
        "colab": {
          "base_uri": "https://localhost:8080/"
        },
        "id": "NUugb1uUZK9H",
        "outputId": "00be089f-27c4-4f8b-ce4f-f7af590e01be"
      },
      "source": [
        "# Python 3 Program to find the maximum\n",
        "# value in a matrix which contain\n",
        "# intersecting concentric submatrix\n",
        "MAXN = 100\n",
        "\n",
        "# Return the maximum value in intersecting\n",
        "# concentric submatrix.\n",
        "def maxValue( n, m, x, y, a):\n",
        "\n",
        "\tc = [[0 for x in range(MAXN)]\n",
        "\t\t\tfor y in range(MAXN)]\n",
        "\n",
        "\t# For each center of concentric sub-matrix.\n",
        "\tfor i in range( m):\n",
        "\n",
        "\t\t# for each row\n",
        "\t\tfor p in range(n) :\n",
        "\n",
        "\t\t\t# for each column\n",
        "\t\t\tfor q in range( n) :\n",
        "\n",
        "\t\t\t\t# finding x distance.\n",
        "\t\t\t\tdx = abs(p - x[i])\n",
        "\n",
        "\t\t\t\t# finding y distance.\n",
        "\t\t\t\tdy = abs(q - y[i])\n",
        "\n",
        "\t\t\t\t# maximum of x distance and y distance\n",
        "\t\t\t\td = max(dx, dy)\n",
        "\n",
        "\t\t\t\t# assigning the value.\n",
        "\t\t\t\tc[p][q] += max(0, a[i] - d)\n",
        "\n",
        "\t# Finding the maximum value in\n",
        "\t# the formed matrix.\n",
        "\tres = 0\n",
        "\tfor i in range(n) :\n",
        "\t\tfor j in range(n) :\n",
        "\t\t\tres = max(res, c[i][j])\n",
        "\treturn res\n",
        "\n",
        "# Driver Code\n",
        "if __name__ == \"__main__\":\n",
        "\t\n",
        "\tn = 10\n",
        "\tm = 2\n",
        "\tx = [ 3, 7 ]\n",
        "\ty = [ 3, 7 ]\n",
        "\ta = [ 4, 3 ]\n",
        "\n",
        "\tprint(maxValue(n, m, x, y, a))\n",
        "\n"
      ],
      "execution_count": null,
      "outputs": [
        {
          "output_type": "stream",
          "text": [
            "4\n"
          ],
          "name": "stdout"
        }
      ]
    },
    {
      "cell_type": "markdown",
      "metadata": {
        "id": "rOBLFGH7Zlki"
      },
      "source": [
        "39. Given a matrix of size N x M and an integer X, the task is to find the number of sub-squares in the matrix with sum of elements equal to X. "
      ]
    },
    {
      "cell_type": "code",
      "metadata": {
        "colab": {
          "base_uri": "https://localhost:8080/"
        },
        "id": "bTke2a66ZieQ",
        "outputId": "49c3b320-9d1a-459e-8a84-e70ee0b9cb2b"
      },
      "source": [
        "# Python3 program for the above approach\n",
        "\n",
        "# Size of a column\n",
        "m = 5\n",
        "\n",
        "# Function to find the count of\n",
        "# submatrix whose sum is X\n",
        "def countSubsquare(arr, n, X):\n",
        "\t\n",
        "\tdp = [[ 0 for x in range(m + 1)]\n",
        "\t\t\tfor y in range(n + 1)]\n",
        "\n",
        "\t# Copying arr to dp and making\n",
        "\t# it indexed 1\n",
        "\tfor i in range(n):\n",
        "\t\tfor j in range(m):\n",
        "\t\t\tdp[i + 1][j + 1] = arr[i][j]\n",
        "\n",
        "\t# Precalculate and store the sum\n",
        "\t# of all rectangles with upper\n",
        "\t# left corner at (0, 0);\n",
        "\tfor i in range(1, n + 1):\n",
        "\t\tfor j in range(1, m + 1):\n",
        "\t\t\t\n",
        "\t\t\t# Calculating sum in\n",
        "\t\t\t# a 2d grid\n",
        "\t\t\tdp[i][j] += (dp[i - 1][j] +\n",
        "\t\t\t\t\t\tdp[i][j - 1] -\n",
        "\t\t\t\t\t\tdp[i - 1][j - 1])\n",
        "\n",
        "\t# Stores the answer\n",
        "\tcnt = 0\n",
        "\n",
        "\tfor i in range(1, n + 1):\n",
        "\t\tfor j in range(1, m + 1):\n",
        "\t\t\t\n",
        "\t\t\t# Fix upper left corner\n",
        "\t\t\t# at {i, j} and perform\n",
        "\t\t\t# binary search on all\n",
        "\t\t\t# such possible squares\n",
        "\n",
        "\t\t\t# Minimum length of square\n",
        "\t\t\tlo = 1\n",
        "\n",
        "\t\t\t# Maximum length of square\n",
        "\t\t\thi = min(n - i, m - j) + 1\n",
        "\n",
        "\t\t\t# Flag to set if sub-square\n",
        "\t\t\t# with sum X is found\n",
        "\t\t\tfound = False\n",
        "\n",
        "\t\t\twhile (lo <= hi):\n",
        "\t\t\t\tmid = (lo + hi) // 2\n",
        "\n",
        "\t\t\t\t# Calculate lower right\n",
        "\t\t\t\t# index if upper right\n",
        "\t\t\t\t# corner is at {i, j}\n",
        "\t\t\t\tni = i + mid - 1\n",
        "\t\t\t\tnj = j + mid - 1\n",
        "\n",
        "\t\t\t\t# Calculate the sum of\n",
        "\t\t\t\t# elements in the submatrix\n",
        "\t\t\t\t# with upper left column\n",
        "\t\t\t\t# {i, j} and lower right\n",
        "\t\t\t\t# column at {ni, nj};\n",
        "\t\t\t\tsum = (dp[ni][nj] -\n",
        "\t\t\t\t\tdp[ni][j - 1] -\n",
        "\t\t\t\t\tdp[i - 1][nj] +\n",
        "\t\t\t\t\tdp[i - 1][j - 1])\n",
        "\n",
        "\t\t\t\tif (sum >= X):\n",
        "\t\t\t\t\t\n",
        "\t\t\t\t\t# If sum X is found\n",
        "\t\t\t\t\tif (sum == X):\n",
        "\t\t\t\t\t\tfound = True\n",
        "\n",
        "\t\t\t\t\thi = mid - 1\n",
        "\n",
        "\t\t\t\t\t# If sum > X, then size of\n",
        "\t\t\t\t\t# the square with sum X\n",
        "\t\t\t\t\t# must be less than mid\n",
        "\t\t\t\telse:\n",
        "\n",
        "\t\t\t\t\t# If sum < X, then size of\n",
        "\t\t\t\t\t# the square with sum X\n",
        "\t\t\t\t\t# must be greater than mid\n",
        "\t\t\t\t\tlo = mid + 1\n",
        "\n",
        "\t\t\t# If found, increment\n",
        "\t\t\t# count by 1;\n",
        "\t\t\tif (found == True):\n",
        "\t\t\t\tcnt += 1\n",
        "\treturn cnt\n",
        "\n",
        "# Driver Code\n",
        "if __name__ ==\"__main__\":\n",
        "\n",
        "\tN, X = 4, 10\n",
        "\n",
        "\t# Given matrix arr[][]\n",
        "\tarr = [ [ 2, 4, 3, 2, 10 ],\n",
        "\t\t\t[ 3, 1, 1, 1, 5 ],\n",
        "\t\t\t[ 1, 1, 2, 1, 4 ],\n",
        "\t\t\t[ 2, 1, 1, 1, 3 ] ]\n",
        "\n",
        "\t# Function call\n",
        "\tprint(countSubsquare(arr, N, X))\n",
        "\n"
      ],
      "execution_count": null,
      "outputs": [
        {
          "output_type": "stream",
          "text": [
            "3\n"
          ],
          "name": "stdout"
        }
      ]
    },
    {
      "cell_type": "markdown",
      "metadata": {
        "id": "QiVspwDOZzGQ"
      },
      "source": [
        "40. Given two binary matrices, A[][] and B[][] of N×M. In a single operation, one can choose a sub-matrix (min of 2 rows and 2c columns) and change the parity of the corner elements i.e. 1 can be changed to a 0, and 0 can be changed to a 1. The task is to check if the matrix A can be converted to B using any number of operations. "
      ]
    },
    {
      "cell_type": "code",
      "metadata": {
        "colab": {
          "base_uri": "https://localhost:8080/"
        },
        "id": "JI_1J6NgZwav",
        "outputId": "ca1e55fb-1d13-4f8b-f9a3-fb3d272753b3"
      },
      "source": [
        "# Python 3 implementation of the\n",
        "# above approach\n",
        "N = 3\n",
        "M = 3\n",
        "\n",
        "# Boolean function that returns\n",
        "# true or false\n",
        "def check(a, b):\n",
        "\t\n",
        "\t# Traverse for all elements\n",
        "\tfor i in range(1, N, 1):\n",
        "\t\tfor j in range(1, M, 1):\n",
        "\t\t\t\n",
        "\t\t\t# If both are not equal\n",
        "\t\t\tif (a[i][j] != b[i][j]):\n",
        "\t\t\t\t\n",
        "\t\t\t\t# Change the parity of\n",
        "\t\t\t\t# all corner elements\n",
        "\t\t\t\ta[i][j] ^= 1\n",
        "\t\t\t\ta[0][0] ^= 1\n",
        "\t\t\t\ta[0][j] ^= 1\n",
        "\t\t\t\ta[i][0] ^= 1\n",
        "\n",
        "\t# Check if A is equal to B\n",
        "\tfor i in range(N):\n",
        "\t\tfor j in range(M):\n",
        "\t\t\t\n",
        "\t\t\t# Not equal\n",
        "\t\t\tif (a[i][j] != b[i][j]):\n",
        "\t\t\t\treturn False\n",
        "\t\n",
        "\treturn True\n",
        "\n",
        "# Driver Code\n",
        "if __name__ == '__main__':\n",
        "\t\n",
        "\t# First binary matrix\n",
        "\ta = [[0, 1, 0],\n",
        "\t\t[0, 1, 0],\n",
        "\t\t[1, 0, 0]]\n",
        "\n",
        "\t# Second binary matrix\n",
        "\tb = [[1, 0, 0],\n",
        "\t\t[1, 0, 0],\n",
        "\t\t[1, 0, 0]]\n",
        "\n",
        "\tif (check(a, b)):\n",
        "\t\tprint(\"Yes\")\n",
        "\telse:\n",
        "\t\tprint(\"No\")\n"
      ],
      "execution_count": null,
      "outputs": [
        {
          "output_type": "stream",
          "text": [
            "Yes\n"
          ],
          "name": "stdout"
        }
      ]
    },
    {
      "cell_type": "markdown",
      "metadata": {
        "id": "W5hR3TacaD7e"
      },
      "source": [
        "41. Given an N*N binary matrix arr[][], the task is to check if the matrix contains a square of at least size 2 x 2 whose boundaries are made up of only 0s. "
      ]
    },
    {
      "cell_type": "code",
      "metadata": {
        "colab": {
          "base_uri": "https://localhost:8080/"
        },
        "id": "6J5gdyAfZ-Tb",
        "outputId": "84b56ff1-5925-4405-e07e-8f4da4159a02"
      },
      "source": [
        "# Python3 implementation of the above approach\n",
        "\n",
        "# Function checks if square\n",
        "# with all 0's in boundary\n",
        "# exists in the matrix\n",
        "def squareOfZeroes():\n",
        "\t\n",
        "\tglobal matrix, cache\n",
        "\tlastIdx = len(matrix) - 1\n",
        "\t\n",
        "\treturn hasSquareOfZeroes(0, 0, lastIdx,\n",
        "\t\t\t\t\t\t\t\tlastIdx)\n",
        "\n",
        "# Function iterate inward in\n",
        "# the matrix and checks the\n",
        "# square obtained and memoize/cache\n",
        "# the result to avoid duplicate computation\n",
        "\n",
        "# r1 is the top row,\n",
        "# c1 is the left col\n",
        "# r2 is the bottom row,\n",
        "# c2 is the right\n",
        "def hasSquareOfZeroes(r1, c1, r2, c2):\n",
        "\t\n",
        "\tglobal matrix, cache\n",
        "\n",
        "\tif (r1 >= r2 or c1 >= c2):\n",
        "\t\treturn False\n",
        "\t\t\n",
        "\tkey = (str(r1) + '-' + str(c1) + '-' +\n",
        "\t\tstr(r2) + '-' + str(c2))\n",
        "\n",
        "\tif (key in cache):\n",
        "\t\treturn cache[key]\n",
        "\n",
        "\tcache[key] = (isSquareOfZeroes(r1, c1, r2, c2) or\n",
        "\t\t\t\thasSquareOfZeroes(r1 + 1, c1 + 1,\n",
        "\t\t\t\t\t\t\t\tr2 - 1, c2 - 1))\n",
        "\tcache[key] = (cache[key] or\n",
        "\t\t\t\thasSquareOfZeroes(r1, c1 + 1,\n",
        "\t\t\t\t\t\t\t\t\t\tr2 - 1, c2) or\n",
        "\t\t\t\thasSquareOfZeroes(r1 + 1, c1,\n",
        "\t\t\t\t\t\t\t\tr2, c2 - 1))\n",
        "\tcache[key] = (cache[key] or\n",
        "\t\t\t\thasSquareOfZeroes(r1 + 1, c1 + 1,\n",
        "\t\t\t\t\t\t\t\t\tr2, c2) or\n",
        "\t\t\t\thasSquareOfZeroes(r1, c1, r2 - 1,\n",
        "\t\t\t\t\t\t\t\t\t\t\tc2 - 1))\n",
        "\n",
        "\treturn cache[key]\n",
        "\n",
        "# Function checks if the\n",
        "# boundary of the square\n",
        "# consists of 0's\n",
        "def isSquareOfZeroes(r1, c1, r2, c2):\n",
        "\t\n",
        "\tglobal matrix\n",
        "\n",
        "\tfor row in range(r1, r2 + 1):\n",
        "\t\tif (matrix[row][c1] != 0 or\n",
        "\t\t\tmatrix[row][c2] != 0):\n",
        "\t\t\treturn False\n",
        "\t\t\t\n",
        "\tfor col in range(c1, c2 + 1):\n",
        "\t\tif (matrix[r1][col] != 0 or\n",
        "\t\t\tmatrix[r2][col] != 0):\n",
        "\t\t\treturn False\n",
        "\n",
        "\treturn True\n",
        "\n",
        "# Driver Code\n",
        "if __name__ == '__main__':\n",
        "\t\n",
        "\tcache = {}\n",
        "\tmatrix = [ [ 1, 1, 1, 0, 1, 0 ],\n",
        "\t\t\t[ 0, 0, 0, 0, 0, 1 ],\n",
        "\t\t\t[ 0, 1, 1, 1, 0, 1 ],\n",
        "\t\t\t[ 0, 0, 0, 1, 0, 1 ],\n",
        "\t\t\t[ 0, 1, 1, 1, 0, 1 ],\n",
        "\t\t\t[ 0, 0, 0, 0, 0, 1 ] ]\n",
        "\n",
        "\tans = squareOfZeroes()\n",
        "\n",
        "\tif (ans == 1):\n",
        "\t\tprint(\"True\")\n",
        "\telse:\n",
        "\t\tprint(\"False\")\n",
        "\n"
      ],
      "execution_count": null,
      "outputs": [
        {
          "output_type": "stream",
          "text": [
            "True\n"
          ],
          "name": "stdout"
        }
      ]
    },
    {
      "cell_type": "markdown",
      "metadata": {
        "id": "sdzHqsK6aotU"
      },
      "source": [
        "42. Given a matrix of size M x N, there are large number of queries to find submatrix sums. Inputs to queries are left top and right bottom indexes of submatrix whose sum is to find out.\n",
        "\n",
        "How to preprocess the matrix so that submatrix sum queries can be performed in O(1) time.\n",
        "\n",
        "Example :\n",
        "\n",
        "tli :  Row number of top left of query submatrix\n",
        "tlj :  Column number of top left of query submatrix\n",
        "rbi :  Row number of bottom right of query submatrix\n",
        "rbj :  Column number of bottom right of query submatrix\n",
        "\n",
        "Input: mat[M][N] = {{1, 2, 3, 4, 6},\n",
        "                    {5, 3, 8, 1, 2},\n",
        "                    {4, 6, 7, 5, 5},\n",
        "                    {2, 4, 8, 9, 4} };\n",
        "Query1: tli = 0, tlj = 0, rbi = 1, rbj = 1\n",
        "Query2: tli = 2, tlj = 2, rbi = 3, rbj = 4\n",
        "Query3: tli = 1, tlj = 2, rbi = 3, rbj = 3;\n",
        "\n",
        "Output:\n",
        "Query1: 11  // Sum between (0, 0) and (1, 1)\n",
        "Query2: 38  // Sum between (2, 2) and (3, 4)\n",
        "Query3: 38  // Sum between (1, 2) and (3, 3)"
      ]
    },
    {
      "cell_type": "code",
      "metadata": {
        "colab": {
          "base_uri": "https://localhost:8080/"
        },
        "id": "nGNSu-gTaIX_",
        "outputId": "85083a43-5a23-4728-bc24-cacb06c6a472"
      },
      "source": [
        "# Python 3 program to compute submatrix\n",
        "# query sum in O(1) time\n",
        "\n",
        "M = 4\n",
        "N = 5\n",
        "\n",
        "# Function to preprcess input mat[M][N].\n",
        "# This function mainly fills aux[M][N]\n",
        "# such that aux[i][j] stores sum\n",
        "# of elements from (0,0) to (i,j)\n",
        "def preProcess(mat, aux):\n",
        "\t\n",
        "\t# Copy first row of mat[][] to aux[][]\n",
        "\tfor i in range(0, N, 1):\n",
        "\t\taux[0][i] = mat[0][i]\n",
        "\n",
        "\t# Do column wise sum\n",
        "\tfor i in range(1, M, 1):\n",
        "\t\tfor j in range(0, N, 1):\n",
        "\t\t\taux[i][j] = mat[i][j] + aux[i - 1][j]\n",
        "\n",
        "\t# Do row wise sum\n",
        "\tfor i in range(0, M, 1):\n",
        "\t\tfor j in range(1, N, 1):\n",
        "\t\t\taux[i][j] += aux[i][j - 1]\n",
        "\n",
        "# A O(1) time function to compute sum of submatrix\n",
        "# between (tli, tlj) and (rbi, rbj) using aux[][]\n",
        "# which is built by the preprocess function\n",
        "def sumQuery(aux, tli, tlj, rbi, rbj):\n",
        "\t\n",
        "\t# result is now sum of elements\n",
        "\t# between (0, 0) and (rbi, rbj)\n",
        "\tres = aux[rbi][rbj]\n",
        "\n",
        "\t# Remove elements between (0, 0)\n",
        "\t# and (tli-1, rbj)\n",
        "\tif (tli > 0):\n",
        "\t\tres = res - aux[tli - 1][rbj]\n",
        "\n",
        "\t# Remove elements between (0, 0)\n",
        "\t# and (rbi, tlj-1)\n",
        "\tif (tlj > 0):\n",
        "\t\tres = res - aux[rbi][tlj - 1]\n",
        "\n",
        "\t# Add aux[tli-1][tlj-1] as elements\n",
        "\t# between (0, 0) and (tli-1, tlj-1)\n",
        "\t# are subtracted twice\n",
        "\tif (tli > 0 and tlj > 0):\n",
        "\t\tres = res + aux[tli - 1][tlj - 1]\n",
        "\n",
        "\treturn res\n",
        "\n",
        "# Driver Code\n",
        "if __name__ == '__main__':\n",
        "\tmat = [[1, 2, 3, 4, 6],\n",
        "\t\t[5, 3, 8, 1, 2],\n",
        "\t\t[4, 6, 7, 5, 5],\n",
        "\t\t[2, 4, 8, 9, 4]]\n",
        "aux = [[0 for i in range(N)]\n",
        "\t\tfor j in range(M)]\n",
        "\n",
        "preProcess(mat, aux)\n",
        "\n",
        "tli = 2\n",
        "tlj = 2\n",
        "rbi = 3\n",
        "rbj = 4\n",
        "print(\"Query1:\", sumQuery(aux, tli, tlj, rbi, rbj))\n",
        "\n",
        "tli = 0\n",
        "tlj = 0\n",
        "rbi = 1\n",
        "rbj = 1\n",
        "print(\"Query2:\", sumQuery(aux, tli, tlj, rbi, rbj))\n",
        "\n",
        "tli = 1\n",
        "tlj = 2\n",
        "rbi = 3\n",
        "rbj = 3\n",
        "print(\"Query3:\", sumQuery(aux, tli, tlj, rbi, rbj))\n",
        "\n"
      ],
      "execution_count": null,
      "outputs": [
        {
          "output_type": "stream",
          "text": [
            "Query1: 38\n",
            "Query2: 11\n",
            "Query3: 38\n"
          ],
          "name": "stdout"
        }
      ]
    },
    {
      "cell_type": "markdown",
      "metadata": {
        "id": "zNFmY3_oDy67"
      },
      "source": [
        "43. Given two arrays A and B of equal number of elements. Task is to find the maximum sum possible of a window in array B such that elements of same window in A[] are unique.\n",
        "Examples: \n",
        " \n",
        "\n",
        "Input : A = [0, 1, 2, 3, 0, 1, 4] \n",
        "        B = [9, 8, 1, 2, 3, 4, 5]\n",
        "Output : sum = 20\n",
        "The maximum sum possible in B[] such that \n",
        "all corresponding elements in A[] are unique \n",
        "is (9+8+1+2) = 20."
      ]
    },
    {
      "cell_type": "code",
      "metadata": {
        "id": "tLBVul3ra39M",
        "colab": {
          "base_uri": "https://localhost:8080/"
        },
        "outputId": "4b4d8c57-fb97-4601-b0eb-93e2aec0f1aa"
      },
      "source": [
        "# Python3 program to find the maximum\n",
        "# possible sum of a window in one\n",
        "# array such that elements in same\n",
        "# window of other array are unique.\n",
        "\n",
        "# Function to return maximum sum of window\n",
        "# in B[] according to given constraints.\n",
        "def returnMaxSum(A, B, n):\n",
        "\n",
        "\t# Map is used to store elements\n",
        "\t# and their counts.\n",
        "\tmp = set()\n",
        "\tresult = 0 # Initialize result\n",
        "\n",
        "\t# calculating the maximum possible\n",
        "\t# sum for each subarray containing\n",
        "\t# unique elements.\n",
        "\tcurr_sum = curr_begin = 0\n",
        "\tfor i in range(0, n):\n",
        "\n",
        "\t\t# Remove all duplicate instances\n",
        "\t\t# of A[i] in current window.\n",
        "\t\twhile A[i] in mp:\n",
        "\t\t\tmp.remove(A[curr_begin])\n",
        "\t\t\tcurr_sum -= B[curr_begin]\n",
        "\t\t\tcurr_begin += 1\n",
        "\t\t\n",
        "\t\t# Add current instance of A[i]\n",
        "\t\t# to map and to current sum.\n",
        "\t\tmp.add(A[i])\n",
        "\t\tcurr_sum += B[i]\n",
        "\n",
        "\t\t# Update result if current\n",
        "\t\t# sum is more.\n",
        "\t\tresult = max(result, curr_sum)\n",
        "\t\n",
        "\treturn result\n",
        "\n",
        "# Driver code\n",
        "if __name__ == \"__main__\":\n",
        "\n",
        "\tA = [0, 1, 2, 3, 0, 1, 4]\n",
        "\tB = [9, 8, 1, 2, 3, 4, 5]\n",
        "\tn = len(A)\n",
        "\tprint(returnMaxSum(A, B, n))\n",
        "\n"
      ],
      "execution_count": 1,
      "outputs": [
        {
          "output_type": "stream",
          "text": [
            "20\n"
          ],
          "name": "stdout"
        }
      ]
    },
    {
      "cell_type": "markdown",
      "metadata": {
        "id": "6deYXBc_E6Fn"
      },
      "source": [
        "44. Given an array of N elements. Find the subset of elements which has maximum sum such that no two elements in the subset has common digit present in them.\n",
        "Examples:\n",
        " \n",
        "\n",
        "Input : array[] = {22, 132, 4, 45, 12, 223} \n",
        "Output : 268 \n",
        "Maximum Sum Subset will be = {45, 223} . \n",
        "All possible digits are present except 1. \n",
        "But to include 1 either 2 or both 2 and 3 have \n",
        "to be removed which result in smaller sum value. "
      ]
    },
    {
      "cell_type": "code",
      "metadata": {
        "colab": {
          "base_uri": "https://localhost:8080/"
        },
        "id": "fu8wm5xIEyac",
        "outputId": "173fcd01-64d6-4178-e6a0-7d8312fd1d89"
      },
      "source": [
        "# Python3 implementation of above approach\n",
        "\n",
        "dp = [0]*1024;\n",
        "\n",
        "# Function to create mask for every number\n",
        "def get_binary(u) :\n",
        "\n",
        "\tans = 0;\n",
        "\twhile (u) :\n",
        "\t\trem = u % 10;\n",
        "\t\tans |= (1 << rem);\n",
        "\t\tu //= 10;\n",
        "\treturn ans;\n",
        "\n",
        "\n",
        "# Recursion for Filling DP array\n",
        "def recur(u, array, n) :\n",
        "\n",
        "\t# Base Condition\n",
        "\tif (u == 0) :\n",
        "\t\treturn 0;\n",
        "\t\t\n",
        "\tif (dp[u] != -1) :\n",
        "\t\treturn dp[u];\n",
        "\n",
        "\ttemp = 0;\n",
        "\tfor i in range(n) :\n",
        "\t\tmask = get_binary(array[i]);\n",
        "\n",
        "\t\t# Recurrence Relation\n",
        "\t\tif ((mask | u) == u) :\n",
        "\t\t\tdp[u] = max(max(0, dp[u ^ mask]) + array[i], dp[u]);\n",
        "\n",
        "\treturn dp[u];\n",
        "\n",
        "\n",
        "# Function to find Maximum Subset Sum\n",
        "def solve(array, n) :\n",
        "\ti = 0\n",
        "\t\n",
        "\t# Initialize DP array\n",
        "\twhile(i < (1 << 10)) :\n",
        "\t\tdp[i] = -1;\n",
        "\t\ti += 1\n",
        "\t\n",
        "\tans = 0;\n",
        "\n",
        "\ti = 0\n",
        "\t# Iterate over all possible masks of 10 bit number\n",
        "\twhile(i < (1 << 10)) :\n",
        "\t\tans = max(ans, recur(i, array, n));\n",
        "\t\t\n",
        "\t\ti += 1\n",
        "\t\n",
        "\treturn ans;\n",
        "\n",
        "# Driver Code\n",
        "if __name__ == \"__main__\" :\n",
        "\n",
        "\tarray = [ 22, 132, 4, 45, 12, 223 ] ;\n",
        "\tn = len(array);\n",
        "\t\n",
        "\tprint(solve(array, n));\n",
        "\t\n",
        "\t"
      ],
      "execution_count": 2,
      "outputs": [
        {
          "output_type": "stream",
          "text": [
            "268\n"
          ],
          "name": "stdout"
        }
      ]
    },
    {
      "cell_type": "markdown",
      "metadata": {
        "id": "rd5SUOaKFeuW"
      },
      "source": [
        "45. Given an array of N integers, write a program that prints the length of the longest subarray such that adjacent elements of the subarray have at least one digit in common. \n",
        "\n",
        "Examples: \n",
        "\n",
        "Input : 12 23 45 43 36 97 \n",
        "Output : 3 \n",
        "Explanation: The subarray is 45 43 36 which has \n",
        "4 common in 45, 43 and 3 common in 43, 36. \n"
      ]
    },
    {
      "cell_type": "code",
      "metadata": {
        "colab": {
          "base_uri": "https://localhost:8080/"
        },
        "id": "oYG8s6h4FDyu",
        "outputId": "d3ff275d-58b1-4e38-c78b-ddf89894d502"
      },
      "source": [
        "# Python 3 program to print the length of the\n",
        "# longest subarray such that adjacent elements\n",
        "# of the subarray have at least one digit in\n",
        "# common.\n",
        "import sys\n",
        "\n",
        "# function to print the longest subarray\n",
        "# such that adjacent elements have at least\n",
        "# one digit in common\n",
        "def longestSubarray(a, n):\n",
        "\t\n",
        "\t# remembers the occurrence of digits\n",
        "\t# in i-th index number\n",
        "\thash = [[0 for i in range(10)]\n",
        "\t\t\tfor j in range(n)]\n",
        "\n",
        "\t# marks the presence of digit in\n",
        "\t# i-th index number\n",
        "\tfor i in range(n):\n",
        "\t\tnum = a[i]\n",
        "\t\twhile (num):\n",
        "\t\t\t\n",
        "\t\t\t# marks the digit\n",
        "\t\t\thash[i][num % 10] = 1\n",
        "\t\t\tnum = int(num / 10)\n",
        "\t\n",
        "\t# counts the longest Subarray\n",
        "\tlongest = -sys.maxsize-1\n",
        "\t\n",
        "\t# counts the subarray\n",
        "\tcount = 0\n",
        "\n",
        "\t# check for all adjacent elements\n",
        "\tfor i in range(n - 1):\n",
        "\t\tfor j in range(10):\n",
        "\t\t\t\n",
        "\t\t\t# if adjacent elements have digit j\n",
        "\t\t\t# in them count and break as we have\n",
        "\t\t\t# got at-least one digit\n",
        "\t\t\tif (hash[i][j] and hash[i + 1][j]):\n",
        "\t\t\t\tcount += 1\n",
        "\t\t\t\tbreak\n",
        "\t\t\n",
        "\t\t# if no digits are common\n",
        "\t\tif (j == 10):\n",
        "\t\t\tlongest = max(longest, count + 1)\n",
        "\t\t\tcount = 0\n",
        "\t\n",
        "\tlongest = max(longest, count + 1)\n",
        "\n",
        "\t# returns the length of the longest\n",
        "\t# subarray\n",
        "\treturn longest\n",
        "\n",
        "# Driver Code\n",
        "if __name__ == '__main__':\n",
        "\ta = [11, 22, 33, 44, 54, 56, 63]\n",
        "\n",
        "\tn = len(a)\n",
        "\t\n",
        "\t# function call\n",
        "\tprint(longestSubarray(a, n))\n",
        "\t\n"
      ],
      "execution_count": 3,
      "outputs": [
        {
          "output_type": "stream",
          "text": [
            "4\n"
          ],
          "name": "stdout"
        }
      ]
    },
    {
      "cell_type": "markdown",
      "metadata": {
        "id": "FzeURZXsFq11"
      },
      "source": [
        "46. Given an array of N elements. Find the subset of elements which has maximum sum such that no two elements in the subset has common digit present in them.\n",
        "Examples:\n",
        " \n",
        "\n",
        "Input : array[] = {22, 132, 4, 45, 12, 223} \n",
        "Output : 268 \n",
        "Maximum Sum Subset will be = {45, 223} . \n",
        "All possible digits are present except 1. \n",
        "But to include 1 either 2 or both 2 and 3 have \n",
        "to be removed which result in smaller sum value"
      ]
    },
    {
      "cell_type": "code",
      "metadata": {
        "colab": {
          "base_uri": "https://localhost:8080/"
        },
        "id": "4W2P24cZFoy4",
        "outputId": "94b4d296-4e6c-4727-a5dd-d8f7c830a864"
      },
      "source": [
        "# Python3 implementation of above approach\n",
        "\n",
        "dp = [0]*1024;\n",
        "\n",
        "# Function to create mask for every number\n",
        "def get_binary(u) :\n",
        "\n",
        "\tans = 0;\n",
        "\twhile (u) :\n",
        "\t\trem = u % 10;\n",
        "\t\tans |= (1 << rem);\n",
        "\t\tu //= 10;\n",
        "\treturn ans;\n",
        "\n",
        "\n",
        "# Recursion for Filling DP array\n",
        "def recur(u, array, n) :\n",
        "\n",
        "\t# Base Condition\n",
        "\tif (u == 0) :\n",
        "\t\treturn 0;\n",
        "\t\t\n",
        "\tif (dp[u] != -1) :\n",
        "\t\treturn dp[u];\n",
        "\n",
        "\ttemp = 0;\n",
        "\tfor i in range(n) :\n",
        "\t\tmask = get_binary(array[i]);\n",
        "\n",
        "\t\t# Recurrence Relation\n",
        "\t\tif ((mask | u) == u) :\n",
        "\t\t\tdp[u] = max(max(0, dp[u ^ mask]) + array[i], dp[u]);\n",
        "\n",
        "\treturn dp[u];\n",
        "\n",
        "\n",
        "# Function to find Maximum Subset Sum\n",
        "def solve(array, n) :\n",
        "\ti = 0\n",
        "\t\n",
        "\t# Initialize DP array\n",
        "\twhile(i < (1 << 10)) :\n",
        "\t\tdp[i] = -1;\n",
        "\t\ti += 1\n",
        "\t\n",
        "\tans = 0;\n",
        "\n",
        "\ti = 0\n",
        "\t# Iterate over all possible masks of 10 bit number\n",
        "\twhile(i < (1 << 10)) :\n",
        "\t\tans = max(ans, recur(i, array, n));\n",
        "\t\t\n",
        "\t\ti += 1\n",
        "\t\n",
        "\treturn ans;\n",
        "\n",
        "# Driver Code\n",
        "if __name__ == \"__main__\" :\n",
        "\n",
        "\tarray = [ 22, 132, 4, 45, 12, 223 ] ;\n",
        "\tn = len(array);\n",
        "\t\n",
        "\tprint(solve(array, n));\n",
        "\t\n"
      ],
      "execution_count": 4,
      "outputs": [
        {
          "output_type": "stream",
          "text": [
            "268\n"
          ],
          "name": "stdout"
        }
      ]
    },
    {
      "cell_type": "markdown",
      "metadata": {
        "id": "CBQU4GkDF0yB"
      },
      "source": [
        "47. Given an array of N integers, the task is to find the length of the longest subarray such that adjacent elements of the subarray have at least one digit in common.\n",
        "Examples: \n",
        " \n",
        "\n",
        "Input : arr[] = {12, 23, 45, 43, 36, 97}\n",
        "Output : 3\n",
        "Explanation: The subarray is 45 43 36 which has \n",
        "4 common in 45, 43 and 3 common in 43, 36."
      ]
    },
    {
      "cell_type": "code",
      "metadata": {
        "colab": {
          "base_uri": "https://localhost:8080/"
        },
        "id": "reWEzMaPFzqf",
        "outputId": "5c717fe6-93c8-4eaf-dc15-60e99c03a8e2"
      },
      "source": [
        "# Python3 program to print the length of the\n",
        "# longest subarray such that adjacent elements\n",
        "# of the subarray have at least one digit in\n",
        "# common\n",
        "import math\n",
        "\n",
        "# Function to print the longest subarray\n",
        "# such that adjacent elements have at least\n",
        "# one digit in common\n",
        "def longestSubarray(arr, n):\n",
        "\n",
        "\ti = d = 0;\n",
        "\n",
        "\t# To mark presence of digit in current\n",
        "\t# element.\n",
        "\tHASH1 = [[0 for x in range(10)]\n",
        "\t\t\t\tfor y in range(2)];\n",
        "\n",
        "\t# To store current row.\n",
        "\tcurrRow = 0;\n",
        "\n",
        "\t# To store maximum length subarray length.\n",
        "\tmaxLen = 1;\n",
        "\n",
        "\t# To store current subarray length.\n",
        "\tlen1 = 0;\n",
        "\n",
        "\t# To store current array element.\n",
        "\ttmp = 0;\n",
        "\n",
        "\t# Mark the presence of digits\n",
        "\t# of first element.\n",
        "\ttmp = arr[0];\n",
        "\twhile (tmp > 0):\n",
        "\t\tHASH1[0][tmp % 10] = 1;\n",
        "\t\ttmp = tmp // 10;\n",
        "\n",
        "\tcurrRow = 1;\n",
        "\n",
        "\t# Find digits of each element and check\n",
        "\t# if adjacent elements have common digit\n",
        "\t# and update len.\n",
        "\tfor i in range(0, n):\n",
        "\t\ttmp = arr[i];\n",
        "\n",
        "\t\tfor d in range(0, 10):\n",
        "\t\t\tHASH1[currRow][d] = 0;\n",
        "\n",
        "\t\t# Find all digits in element.\n",
        "\t\twhile (tmp > 0):\n",
        "\t\t\tHASH1[currRow][tmp % 10] = 1;\n",
        "\t\t\ttmp = tmp // 10;\n",
        "\n",
        "\t\t# Find common digit in adjacent element.\n",
        "\t\tfor d in range(0, 10):\n",
        "\t\t\tif (HASH1[currRow][d] and\n",
        "\t\t\t\tHASH1[1 - currRow][d]):\n",
        "\t\t\t\tlen1 += 1;\n",
        "\t\t\t\tbreak;\n",
        "\n",
        "\t\t# If no common digit is found a new subarray\n",
        "\t\t# has to start from current element.\n",
        "\t\tif (d == 10):\n",
        "\t\t\tlen1 = 1;\n",
        "\n",
        "\t\tmaxLen = max(maxLen, len1);\n",
        "\n",
        "\t\tcurrRow = 1 - currRow;\n",
        "\n",
        "\treturn maxLen;\n",
        "\n",
        "# Driver Code\n",
        "arr = [ 11, 22, 33, 44, 54, 56, 63 ];\n",
        "n = len(arr);\n",
        "\n",
        "print(longestSubarray(arr, n));\n",
        "\n"
      ],
      "execution_count": 5,
      "outputs": [
        {
          "output_type": "stream",
          "text": [
            "4\n"
          ],
          "name": "stdout"
        }
      ]
    },
    {
      "cell_type": "markdown",
      "metadata": {
        "id": "IAkGlcgJF_2q"
      },
      "source": [
        "48. Given an array of N numbers. Find out the number of pairs i and j such that i < j and Ai and Aj have at least one digit common (For e.g. (11, 19) have 1 digit common but (36, 48) have no digit common)\n",
        "\n",
        "Examples: \n",
        "\n",
        "Input: A[] = { 10, 12, 24 } \n",
        "Output: 2 \n",
        "Explanation: Two valid pairs are (10, 12) and (12, 24) which have atleast one digit common "
      ]
    },
    {
      "cell_type": "code",
      "metadata": {
        "colab": {
          "base_uri": "https://localhost:8080/"
        },
        "id": "LLWFH0oqF-A_",
        "outputId": "3cbb1f92-1572-4f85-be55-82ebbfd6c9ee"
      },
      "source": [
        "# Python3 Program to count pairs in\n",
        "# an array with some common digit\n",
        "\n",
        "# Returns true if the pair is\n",
        "# valid, otherwise false\n",
        "def checkValidPair(num1, num2) :\n",
        "\t\n",
        "\t# converting integers to strings\n",
        "\ts1 = str(num1)\n",
        "\ts2 = str(num2)\n",
        "\n",
        "\t# Iterate over the strings and check if\n",
        "\t# a character in first string is also\n",
        "\t# present in second string, return true\n",
        "\tfor i in range(len(s1)) :\n",
        "\t\tfor j in range(len(s2)) :\n",
        "\t\t\tif (s1[i] == s2[j]) :\n",
        "\t\t\t\treturn True;\n",
        "\n",
        "\t# No common digit found\n",
        "\treturn False;\n",
        "\n",
        "# Returns the number of valid pairs\n",
        "def countPairs(arr, n) :\n",
        "\t\n",
        "\tnumberOfPairs = 0\n",
        "\n",
        "\t# Iterate over all possible pairs\n",
        "\tfor i in range(n) :\n",
        "\t\tfor j in range(i + 1, n) :\n",
        "\t\t\tif (checkValidPair(arr[i], arr[j])) :\n",
        "\t\t\t\tnumberOfPairs += 1\n",
        "\n",
        "\treturn numberOfPairs\n",
        "\n",
        "# Driver Code\n",
        "if __name__ == \"__main__\" :\n",
        "\tarr = [ 10, 12, 24 ]\n",
        "\tn = len(arr)\n",
        "\tprint(countPairs(arr, n))\n"
      ],
      "execution_count": 6,
      "outputs": [
        {
          "output_type": "stream",
          "text": [
            "2\n"
          ],
          "name": "stdout"
        }
      ]
    },
    {
      "cell_type": "markdown",
      "metadata": {
        "id": "-t_5e_c0GRkr"
      },
      "source": [
        "49. Given an array. The task is to find the length of the longest subsequence in which all elements must have at least one digit in common.\n",
        "\n",
        "Examples: \n",
        "\n",
        "Input : arr[] = { 11, 12, 23, 74, 13 } \n",
        "Output : 3 \n",
        "Explanation: The elements 11, 12, and 13 have the digit ‘1’ as common. So it is the required longest sub-sequence.\n",
        "Input : arr[] = { 12, 90, 67, 78, 45 } \n",
        "Output : 2"
      ]
    },
    {
      "cell_type": "code",
      "metadata": {
        "colab": {
          "base_uri": "https://localhost:8080/"
        },
        "id": "nBmj_mTBGW-6",
        "outputId": "bf8b33f9-77de-4b18-ba57-4be25a06dd96"
      },
      "source": [
        "# Python3 program to find the length\n",
        "# of subsequence which has atleast\n",
        "# one digit common among all its elements\n",
        "\n",
        "# If the number contains a digit increase\n",
        "# the count by 1 (even if it has multiple\n",
        "# same digit the count should be increased\n",
        "# by only once)\n",
        "def count_(count, e):\n",
        "\n",
        "\t# Hash to make it sure that a digit\n",
        "\t# is counted only once\n",
        "\thash = [False] * 10\n",
        "\n",
        "\t# Extract the digits\n",
        "\twhile (e > 0):\n",
        "\n",
        "\t\t# If the digit did not\n",
        "\t\t# appear before\n",
        "\t\tif (hash[e % 10] == False) :\n",
        "\n",
        "\t\t\t# Increase the count\n",
        "\t\t\tcount[e % 10] += 1\n",
        "\n",
        "\t\t# Mark the digit as visited\n",
        "\t\thash[e % 10] = True\n",
        "\n",
        "\t\t# Delete the digit\n",
        "\t\te //= 10\n",
        "\n",
        "# Function to find the length of\n",
        "# subsequence which has atleast\n",
        "# one digit common among all its elements\n",
        "def find_subsequence(arr, n) :\n",
        "\n",
        "\t# Count of digits\n",
        "\tcount = [0] * 10\n",
        "\n",
        "\tfor i in range ( n) :\n",
        "\n",
        "\t\t# Extract the digits of the element\n",
        "\t\t# and increase the count\n",
        "\t\tcount_(count, arr[i])\n",
        "\n",
        "\t# Longest subsequence\n",
        "\tlongest = 0\n",
        "\n",
        "\t# Get the longest subsequence\n",
        "\tfor i in range(10) :\n",
        "\t\tlongest = max(count[i], longest)\n",
        "\n",
        "\t# Print the length of\n",
        "\t# longest subsequence\n",
        "\tprint (longest)\n",
        "\n",
        "# Driver code\n",
        "if __name__ == \"__main__\":\n",
        "\n",
        "\tarr = [ 11, 12, 23, 74, 13 ]\n",
        "\n",
        "\tn = len(arr)\n",
        "\n",
        "\tfind_subsequence(arr, n)\n",
        "\n"
      ],
      "execution_count": 7,
      "outputs": [
        {
          "output_type": "stream",
          "text": [
            "3\n"
          ],
          "name": "stdout"
        }
      ]
    },
    {
      "cell_type": "markdown",
      "metadata": {
        "id": "HQvQcXckGcxl"
      },
      "source": [
        "50. Given an array arr[] of positive integers. The task is to find minimum sum subsequence from the array such that at least one value among all groups of four consecutive elements is picked. \n",
        "\n",
        "Examples :  \n",
        "\n",
        "Input: arr[] = {1, 2, 3, 4, 5, 6, 7, 8}\n",
        "Output: 6\n",
        "6 is sum of output subsequence {1, 5}\n",
        "Note that we have following subarrays of four\n",
        "consecutive elements\n",
        "{(1, 2, 3, 4), \n",
        " (2, 3, 4, 5),\n",
        " (3, 4, 5, 6)\n",
        " (4, 5, 6, 7)\n",
        " (5, 6, 7, 8)}\n",
        "Our subsequence {1, 5} has an element from\n",
        "all above groups of four consecutive elements.\n",
        "And this subsequence is minimum sum such\n",
        "subsequence.\n",
        "\n",
        "Input : arr[] = {1, 2, 3, 3, 4, 5, 6, 1}\n",
        "Output : 4\n",
        "The subsequence is {3, 1}. Here we consider\n",
        "second three."
      ]
    },
    {
      "cell_type": "code",
      "metadata": {
        "colab": {
          "base_uri": "https://localhost:8080/"
        },
        "id": "KYLEDi1OGaGM",
        "outputId": "03c19972-f2fb-4271-ddcf-827dd92ff7fe"
      },
      "source": [
        "# Python 3 program to find minimum sum\n",
        "# subsequence of an array such that one\n",
        "# of every four consecutive elements is picked.\n",
        "\n",
        "# Returns sum of minimum sum subsequence\n",
        "# such that one of every four consecutive\n",
        "# elements is picked from arr[].\n",
        "def minSum(arr, n):\n",
        "\n",
        "\t# dp[i] is going to store minimum sum\n",
        "\t# subsequence of arr[0..i] such that\n",
        "\t# arr[i] is part of the solution. Note\n",
        "\t# that this may not be the best solution\n",
        "\t# for subarray arr[0..i]\n",
        "\tdp = [0] * n\n",
        "\n",
        "\t# If there is single value, we get\n",
        "\t# the minimum sum equal to arr[0]\n",
        "\tif (n == 1):\n",
        "\t\treturn arr[0]\n",
        "\n",
        "\t# If there are two values, we get the\n",
        "\t# minimum sum equal to the minimum of\n",
        "\t# two values\n",
        "\tif (n == 2):\n",
        "\t\treturn min(arr[0], arr[1])\n",
        "\n",
        "\t# If there are three values, return\n",
        "\t# minimum of the three elements of\n",
        "\t# array\n",
        "\tif (n == 3):\n",
        "\t\treturn min(arr[0],\n",
        "\t\t\tmin(arr[1], arr[2]))\n",
        "\n",
        "\t# If there are four values,\n",
        "\t# return minimum of the four\n",
        "\t# elements of array\n",
        "\tif (n == 4):\n",
        "\t\treturn min(min(arr[0], arr[1]),\n",
        "\t\t\t\tmin(arr[2], arr[3]))\n",
        "\n",
        "\tdp[0] = arr[0]\n",
        "\tdp[1] = arr[1]\n",
        "\tdp[2] = arr[2]\n",
        "\tdp[3] = arr[3]\n",
        "\n",
        "\tfor i in range( 4, n):\n",
        "\t\tdp[i] = arr[i] + min(min(dp[i - 1], dp[i - 2]),\n",
        "\t\t\t\t\t\t\tmin(dp[i - 3], dp[i - 4]))\n",
        "\n",
        "\t# Return the minimum of last 4 index\n",
        "\treturn min(min(dp[n - 1], dp[n - 2]),\n",
        "\t\t\t\tmin(dp[n - 4], dp[n - 3]))\n",
        "\n",
        "# Driver code\n",
        "if __name__ == \"__main__\":\n",
        "\t\n",
        "\tarr = [ 1, 2, 3, 3, 4, 5, 6, 1 ]\n",
        "\tn = len(arr)\n",
        "\tprint(minSum(arr, n))\n"
      ],
      "execution_count": 8,
      "outputs": [
        {
          "output_type": "stream",
          "text": [
            "4\n"
          ],
          "name": "stdout"
        }
      ]
    },
    {
      "cell_type": "markdown",
      "metadata": {
        "id": "kI9fczwGHGy6"
      },
      "source": [
        "51. Given an array arr[] of N positive integers, the task is to find the maximum sum of a subsequence consisting of no K consecutive array elements.\n",
        "\n",
        "Examples:\n",
        "\n",
        "Input: arr[] = {10, 5, 8, 16, 21}, K = 4\n",
        "Output: 55\n",
        "Explanation:\n",
        "Maximum sum is obtained by picking 10, 8, 16, 21.\n",
        "\n",
        "Input: arr[] = {4, 12, 22, 18, 34, 12, 25}, K = 5\n",
        "Output: 111\n",
        "Explanation:\n",
        "Maximum sum is obtained by picking 12, 22, 18, 34, 25"
      ]
    },
    {
      "cell_type": "code",
      "metadata": {
        "colab": {
          "base_uri": "https://localhost:8080/"
        },
        "id": "l09a8yB6Gzhf",
        "outputId": "a88c5589-b02f-4d01-d00f-67f1e739af08"
      },
      "source": [
        "# Python3 program for the above approach\n",
        "\n",
        "# Function to find the maximum sum\n",
        "# of a subsequence consisting of\n",
        "# no K consecutive array elements\n",
        "def Max_Sum(arr, K, N):\n",
        "\t\n",
        "\t# Stores states of dp\n",
        "\tdp = [0] * (N + 1)\n",
        "\t\n",
        "\t# Stores the prefix sum\n",
        "\tprefix = [None] * (N + 1)\n",
        "\t\n",
        "\tprefix[0] = 0\n",
        "\t\n",
        "\t# Update the prefix sum\n",
        "\tfor i in range(1, N + 1):\n",
        "\t\tprefix[i] = prefix[i - 1] + arr[i - 1]\n",
        "\t\n",
        "\t# Base case for i < K\n",
        "\tdp[0] = 0\n",
        "\t\n",
        "\t# For indices less than k\n",
        "\t# take all the elements\n",
        "\tfor i in range(1, K):\n",
        "\t\tdp[i] = prefix[i]\n",
        "\t\n",
        "\t# For i >= K case\n",
        "\tfor i in range(K, N + 1):\n",
        "\t\t\n",
        "\t\t# Skip each element from i to\n",
        "\t\t# (i - K + 1) to ensure that\n",
        "\t\t# no K elements are consecutive\n",
        "\t\tfor j in range(i, i - K, -1):\n",
        "\t\t\t\n",
        "\t\t\t# j-th element is skipped\n",
        "\t\t\t\n",
        "\t\t\t# Update the current dp state\n",
        "\t\t\tdp[i] = max(dp[i], dp[j - 1] +\n",
        "\t\t\t\t\tprefix[i] - prefix[j])\n",
        "\t\n",
        "\t# dp[N] stores the maximum sum\n",
        "\treturn dp[N]\n",
        "\n",
        "# Driver Code\n",
        "if __name__ == \"__main__\":\n",
        "\t\n",
        "\t# Given array arr[]\n",
        "\tarr = [ 4, 12, 22, 18, 34, 12, 25 ]\n",
        "\t\n",
        "\tN = len(arr)\n",
        "\tK = 5\n",
        "\t\n",
        "\t# Function call\n",
        "\tprint(Max_Sum(arr, K, N))\n",
        "\t"
      ],
      "execution_count": 9,
      "outputs": [
        {
          "output_type": "stream",
          "text": [
            "111\n"
          ],
          "name": "stdout"
        }
      ]
    },
    {
      "cell_type": "markdown",
      "metadata": {
        "id": "mr8vPWRjHlsr"
      },
      "source": [
        "52. Given an array arr[] of N integers and another integer K. The task is to find the maximum sum of a subsequence such that the difference of the indices of all consecutive elements in the subsequence in the original array is exactly K. For example, if arr[i] is the first element of the subsequence then the next element has to be arr[i + k] then arr[i + 2k] and so on."
      ]
    },
    {
      "cell_type": "code",
      "metadata": {
        "colab": {
          "base_uri": "https://localhost:8080/"
        },
        "id": "1xvfVBN3HgR6",
        "outputId": "115cd8ea-0660-4328-8d7f-8b87cc137eaa"
      },
      "source": [
        "# Python3 implementation of the approach\n",
        "# Function to return the maximum subarray sum\n",
        "# for the array {a[i], a[i + k], a[i + 2k], ...}\n",
        "import sys\n",
        "def maxSubArraySum(a, n, k, i):\n",
        "\n",
        "\tmax_so_far = -sys.maxsize;\n",
        "\tmax_ending_here = 0;\n",
        "\n",
        "\twhile (i < n):\n",
        "\t\tmax_ending_here = max_ending_here + a[i];\n",
        "\t\tif (max_so_far < max_ending_here):\n",
        "\t\t\tmax_so_far = max_ending_here;\n",
        "\n",
        "\t\tif (max_ending_here < 0):\n",
        "\t\t\tmax_ending_here = 0;\n",
        "\n",
        "\t\ti += k;\n",
        "\t\n",
        "\treturn max_so_far;\n",
        "\n",
        "# Function to return the sum of\n",
        "# the maximum required subsequence\n",
        "def find(arr, n, k):\n",
        "\n",
        "\t# To store the result\n",
        "\tmaxSum = 0;\n",
        "\n",
        "\t# Run a loop from 0 to k\n",
        "\tfor i in range(0, min(n, k) + 1):\n",
        "\t\tsum = 0;\n",
        "\n",
        "\t\t# Find the maximum subarray sum for the\n",
        "\t\t# array {a[i], a[i + k], a[i + 2k], ...}\n",
        "\t\tmaxSum = max(maxSum,\n",
        "\t\t\t\t\tmaxSubArraySum(arr, n, k, i));\n",
        "\t\n",
        "\t# Return the maximum value\n",
        "\treturn maxSum;\n",
        "\n",
        "# Driver code\n",
        "if __name__ == '__main__':\n",
        "\tarr = [ 2, -3, -1, -1, 2 ];\n",
        "\tn = len(arr);\n",
        "\tk = 2;\n",
        "\n",
        "\tprint(find(arr, n, k));\n"
      ],
      "execution_count": 10,
      "outputs": [
        {
          "output_type": "stream",
          "text": [
            "3\n"
          ],
          "name": "stdout"
        }
      ]
    },
    {
      "cell_type": "markdown",
      "metadata": {
        "id": "eWV7sgbzIVdQ"
      },
      "source": [
        "53. Given two positive integers R1 and R2 representing the radius of two intersecting circles having a distance D between their centers, the task is to find the cosine of the angle of intersection between the two circles.\n",
        "\n",
        "Examples:\n",
        "\n",
        "Input: R1 = 3, R2 = 4, D = 5\n",
        "Output: 0\n",
        "\n",
        "Input: R1 = 7, R2 = 3, D = 6\n",
        "Output: 0.52381"
      ]
    },
    {
      "cell_type": "code",
      "metadata": {
        "colab": {
          "base_uri": "https://localhost:8080/"
        },
        "id": "tyR4XVfGIO7C",
        "outputId": "231d25a7-a21a-4726-c7fc-6d5a2de594d8"
      },
      "source": [
        "# Python3 program for the above approach\n",
        "\n",
        "# Function to find the cosine of the\n",
        "# angle of the intersection of two\n",
        "# circles with radius R1 and R2\n",
        "def angle(R1, R2, D):\n",
        "\t\n",
        "\tans = ((R1 * R1 + R2 * R2 - D * D) /\n",
        "\t\t\t(2 * R1 * R2))\n",
        "\n",
        "\t# Return the cosine of the angle\n",
        "\treturn ans\n",
        "\n",
        "# Driver Code\n",
        "if __name__ == '__main__':\n",
        "\t\n",
        "\tR1 = 3\n",
        "\tR2 = 4\n",
        "\tD = 5\n",
        "\t\n",
        "\tprint(angle(R1, R2, D))\n",
        "\t"
      ],
      "execution_count": 11,
      "outputs": [
        {
          "output_type": "stream",
          "text": [
            "0.0\n"
          ],
          "name": "stdout"
        }
      ]
    },
    {
      "cell_type": "markdown",
      "metadata": {
        "id": "VI0gWuACJOQX"
      },
      "source": [
        "54. Given two circles, of given radii, have there centres a given distance apart, such that the circles don’t touch each other. The task is to find the length of the direct common tangent between the circles.\n",
        "Examples: \n",
        " \n",
        "\n",
        "Input: r1 = 4, r2 = 6, d = 12 \n",
        "Output: 11.8322"
      ]
    },
    {
      "cell_type": "code",
      "metadata": {
        "colab": {
          "base_uri": "https://localhost:8080/"
        },
        "id": "9Zx-770NI__W",
        "outputId": "e0b1830f-b7bb-4933-a52e-a88036237870"
      },
      "source": [
        "# Python3 program to find\n",
        "# the length of the direct\n",
        "# common tangent between two circles\n",
        "# which do not touch each other\n",
        "import math\n",
        "\n",
        "# Function to find the length\n",
        "# of the direct common tangent\n",
        "def lengtang(r1, r2, d):\n",
        "\tprint(\"The length of the direct common tangent is\",\n",
        "\t\t(((d ** 2) - ((r1 - r2) ** 2)) ** (1 / 2)));\n",
        "\n",
        "# Driver code\n",
        "r1 = 4; r2 = 6; d = 12;\n",
        "lengtang(r1, r2, d);\n"
      ],
      "execution_count": 14,
      "outputs": [
        {
          "output_type": "stream",
          "text": [
            "The length of the direct common tangent is 11.832159566199232\n"
          ],
          "name": "stdout"
        }
      ]
    },
    {
      "cell_type": "markdown",
      "metadata": {
        "id": "VyWwe-PDJgaM"
      },
      "source": [
        "55. Given two circles of given radii, having there centres a given distance apart, such that the circles don’t touch each other. The task is to find the length of the transverse common tangent between the circles.\n",
        "Examples: \n",
        " \n",
        "\n",
        "Input: r1 = 4, r2 = 6, d = 12\n",
        "Output: 6.63325\n",
        "\n",
        "Input: r1 = 7, r2 = 9, d = 21\n",
        "Output: 13.6015"
      ]
    },
    {
      "cell_type": "code",
      "metadata": {
        "colab": {
          "base_uri": "https://localhost:8080/"
        },
        "id": "WLZ2laGPJbnl",
        "outputId": "d44483fc-448e-410f-c74e-98a3bb30f008"
      },
      "source": [
        "# python 3 program to find the length\n",
        "# of the transverse common tangent\n",
        "# between two circles which\n",
        "# do not touch each other\n",
        "from math import sqrt, pow\n",
        "\n",
        "# Function to find the length\n",
        "# of the transverse common tangent\n",
        "def lengthOfTangent(r1, r2, d):\n",
        "\tprint(\"The length of the transverse\",\n",
        "\t\t\t\t\t\"common tangent is\",\n",
        "\t\t'{0:.6g}'.format(sqrt(pow(d, 2) -\n",
        "\t\t\t\t\t\t\t\tpow((r1 + r2), 2))))\n",
        "\n",
        "# Driver code\n",
        "if __name__ == '__main__':\n",
        "\tr1 = 4\n",
        "\tr2 = 6\n",
        "\td = 12\n",
        "\tlengthOfTangent(r1, r2, d)\n",
        "\t"
      ],
      "execution_count": 15,
      "outputs": [
        {
          "output_type": "stream",
          "text": [
            "The length of the transverse common tangent is 6.63325\n"
          ],
          "name": "stdout"
        }
      ]
    },
    {
      "cell_type": "markdown",
      "metadata": {
        "id": "0h0cxvzjJ4WD"
      },
      "source": [
        "56. Given two circles, of given radii, that touch each other externally. The task is to find the length of the direct common tangent between the circles.\n",
        "Examples: \n",
        " \n",
        "\n",
        "Input: r1 = 5, r2 = 9\n",
        "Output: 13.4164\n",
        "\n",
        "Input: r1 = 11, r2 = 13\n",
        "Output: 23.9165"
      ]
    },
    {
      "cell_type": "code",
      "metadata": {
        "colab": {
          "base_uri": "https://localhost:8080/"
        },
        "id": "Fq5JB8roJxfn",
        "outputId": "e57c311c-bba5-4fbd-848c-3446ae8c81a6"
      },
      "source": [
        "# Python3 program to find the length\n",
        "# of the direct common tangent\n",
        "# between two circles which\n",
        "# externally touch each other\n",
        "\n",
        "# Function to find the length\n",
        "# of the direct common tangent\n",
        "def lengtang(r1, r2):\n",
        "\tprint(\"The length of the direct\",\n",
        "\t\t\t\t\"common tangent is\",\n",
        "\t\t\t2 * (r1 * r2)**(1 / 2));\n",
        "\n",
        "# Driver code\n",
        "r1 = 5; r2 = 9;\n",
        "lengtang(r1, r2);\n"
      ],
      "execution_count": 16,
      "outputs": [
        {
          "output_type": "stream",
          "text": [
            "The length of the direct common tangent is 13.416407864998739\n"
          ],
          "name": "stdout"
        }
      ]
    },
    {
      "cell_type": "markdown",
      "metadata": {
        "id": "OlDT5NIrKeXk"
      },
      "source": [
        "57. There are 4 circles with positive integer radius r1, r2, r3 and r4 as shown in the figure below.\n",
        "\n",
        "![image.png](data:image/png;base64,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) \n",
        "\n",
        "\n",
        "The task is to find the radius r4 of the circle formed by three circles when radius r1, r2, r3 are given. \n",
        "(Note that the circles in the picture above are tangent to each other.)\n",
        "\n",
        "Examples: \n",
        "\n",
        "Input: r1 = 1, r2 = 1, r3 = 1 \n",
        "Output: 0.154701\n",
        "\n",
        "\n",
        "\n",
        "Input: r1 = 23, r2 = 46, r3 = 69 \n",
        "Output: 6.000000 "
      ]
    },
    {
      "cell_type": "code",
      "metadata": {
        "colab": {
          "base_uri": "https://localhost:8080/"
        },
        "id": "uvKWfeMFKQYp",
        "outputId": "ab2a9314-104c-4a2b-8cc3-c43ba100724f"
      },
      "source": [
        "# Python3 implementation of the approach\n",
        "import math\n",
        "\n",
        "# Radius of the 3 given circles\n",
        "r1 = 0\n",
        "r2 = 0\n",
        "r3 = 0\n",
        "\n",
        "# Calculation of area of a\n",
        "# triangle by Heron's formula\n",
        "def area(a, b, c):\n",
        "\t\n",
        "\tp = (a + b + c) / 2\n",
        "\n",
        "\treturn ((math.sqrt(p)) *\n",
        "\t\t\t(math.sqrt(p - a)) *\n",
        "\t\t\t(math.sqrt(p - b)) *\n",
        "\t\t\t(math.sqrt(p - c)))\n",
        "\n",
        "# Applying binary search to find the\n",
        "# radius r4 of the required circle\n",
        "def binary_search():\n",
        "\t\n",
        "\tglobal r1, r2, r3\n",
        "\n",
        "\t# Area of main triangle\n",
        "\ts = area(r1 + r2, r2 + r3, r3 + r1)\n",
        "\tl = 0\n",
        "\th = s / (r1 + r2 + r3)\n",
        "\n",
        "\t# Loop runs until l and h\n",
        "\t# becomes approximately equal\n",
        "\twhile (h - l > 0.00000001):\n",
        "\t\tmid = (l + h) / 2\n",
        "\n",
        "\t\t# Area of smaller triangles\n",
        "\t\ts1 = area(mid + r1, mid + r2, r1 + r2)\n",
        "\t\ts2 = area(mid + r1, mid + r3, r1 + r3)\n",
        "\t\ts3 = area(mid + r2, mid + r3, r2 + r3)\n",
        "\n",
        "\t\t# If sum of smaller triangles\n",
        "\t\t# is less than main triangle\n",
        "\t\tif (s1 + s2 + s3 < s):\n",
        "\t\t\tl = mid\n",
        "\t\t\t\n",
        "\t\t# If sum of smaller triangles is\n",
        "\t\t# greater than or equal to main triangle\n",
        "\t\telse:\n",
        "\t\t\th = mid\n",
        "\t\t\t\n",
        "\treturn ((l + h) / 2)\n",
        "\n",
        "# Driver code\n",
        "\n",
        "# Taking r1, r2, r3 as input\n",
        "r1 = 1\n",
        "r2 = 2\n",
        "r3 = 3\n",
        "\n",
        "# Call to function binary search\n",
        "print(\"{0:.6f}\".format(binary_search()))\n",
        "\n"
      ],
      "execution_count": 17,
      "outputs": [
        {
          "output_type": "stream",
          "text": [
            "0.260870\n"
          ],
          "name": "stdout"
        }
      ]
    },
    {
      "cell_type": "markdown",
      "metadata": {
        "id": "gVYxe0TqLngU"
      },
      "source": [
        "58. There are n stairs, a person standing at the bottom wants to reach the top. The person can climb either 1 stair or 2 stairs at a time. Count the number of ways, the person can reach the top.\n",
        " "
      ]
    },
    {
      "cell_type": "code",
      "metadata": {
        "colab": {
          "base_uri": "https://localhost:8080/"
        },
        "id": "2eHdyWF_LjTi",
        "outputId": "bfffc02f-76ff-4752-feb3-4c40a46dff0e"
      },
      "source": [
        "# Python program to count\n",
        "# ways to reach nth stair\n",
        "\n",
        "# Recursive function to find\n",
        "# Nth fibonacci number\n",
        "def fib(n):\n",
        "\tif n <= 1:\n",
        "\t\treturn n\n",
        "\treturn fib(n-1) + fib(n-2)\n",
        "\n",
        "# Returns no. of ways to\n",
        "# reach sth stair\n",
        "def countWays(s):\n",
        "\treturn fib(s + 1)\n",
        "\n",
        "# Driver program\n",
        "s = 4\n",
        "print(\"Number of ways = \")\n",
        "print(countWays(s))\n"
      ],
      "execution_count": 19,
      "outputs": [
        {
          "output_type": "stream",
          "text": [
            "Number of ways = \n",
            "5\n"
          ],
          "name": "stdout"
        }
      ]
    },
    {
      "cell_type": "markdown",
      "metadata": {
        "id": "OrB4hc7SL8dA"
      },
      "source": [
        "59. Given weights and values of n items, put these items in a knapsack of capacity W to get the maximum total value in the knapsack. In other words, given two integer arrays val[0..n-1] and wt[0..n-1] which represent values and weights associated with n items respectively. Also given an integer W which represents knapsack capacity, find out the maximum value subset of val[] such that sum of the weights of this subset is smaller than or equal to W. You cannot break an item, either pick the complete item or don’t pick it (0-1 property)."
      ]
    },
    {
      "cell_type": "code",
      "metadata": {
        "colab": {
          "base_uri": "https://localhost:8080/"
        },
        "id": "g7bX1XgnL1Ui",
        "outputId": "338f17f9-0faa-470f-d335-064579f30647"
      },
      "source": [
        "# A naive recursive implementation\n",
        "# of 0-1 Knapsack Problem\n",
        "\n",
        "# Returns the maximum value that\n",
        "# can be put in a knapsack of\n",
        "# capacity W\n",
        "\n",
        "\n",
        "def knapSack(W, wt, val, n):\n",
        "\n",
        "\t# Base Case\n",
        "\tif n == 0 or W == 0:\n",
        "\t\treturn 0\n",
        "\n",
        "\t# If weight of the nth item is\n",
        "\t# more than Knapsack of capacity W,\n",
        "\t# then this item cannot be included\n",
        "\t# in the optimal solution\n",
        "\tif (wt[n-1] > W):\n",
        "\t\treturn knapSack(W, wt, val, n-1)\n",
        "\n",
        "\t# return the maximum of two cases:\n",
        "\t# (1) nth item included\n",
        "\t# (2) not included\n",
        "\telse:\n",
        "\t\treturn max(\n",
        "\t\t\tval[n-1] + knapSack(\n",
        "\t\t\t\tW-wt[n-1], wt, val, n-1),\n",
        "\t\t\tknapSack(W, wt, val, n-1))\n",
        "\n",
        "# end of function knapSack\n",
        "\n",
        "\n",
        "#Driver Code\n",
        "val = [60, 100, 120]\n",
        "wt = [10, 20, 30]\n",
        "W = 50\n",
        "n = len(val)\n",
        "print(knapSack(W, wt, val, n))\n"
      ],
      "execution_count": 21,
      "outputs": [
        {
          "output_type": "stream",
          "text": [
            "220\n"
          ],
          "name": "stdout"
        }
      ]
    },
    {
      "cell_type": "markdown",
      "metadata": {
        "id": "SuUtJxmcMTzQ"
      },
      "source": [
        "60. Given two strings ‘X’ and ‘Y’, find the length of the longest common substring. \n",
        "\n",
        "Examples : \n",
        "\n",
        "Input : X = “GeeksforGeeks”, y = “GeeksQuiz” \n",
        "Output : 5 \n",
        "Explanation:\n",
        "The longest common substring is “Geeks” and is of length 5.\n",
        "\n",
        "Input : X = “abcdxyz”, y = “xyzabcd” \n",
        "Output : 4 \n",
        "Explanation:\n",
        "The longest common substring is “abcd” and is of length 4."
      ]
    },
    {
      "cell_type": "code",
      "metadata": {
        "colab": {
          "base_uri": "https://localhost:8080/"
        },
        "id": "TtlwgbEcMO8s",
        "outputId": "23de4118-0b42-414d-cb91-e33835d07cbc"
      },
      "source": [
        "# Python3 implementation of Finding\n",
        "# Length of Longest Common Substring\n",
        "\n",
        "# Returns length of longest common\n",
        "# substring of X[0..m-1] and Y[0..n-1]\n",
        "\n",
        "\n",
        "def LCSubStr(X, Y, m, n):\n",
        "\n",
        "\t# Create a table to store lengths of\n",
        "\t# longest common suffixes of substrings.\n",
        "\t# Note that LCSuff[i][j] contains the\n",
        "\t# length of longest common suffix of\n",
        "\t# X[0...i-1] and Y[0...j-1]. The first\n",
        "\t# row and first column entries have no\n",
        "\t# logical meaning, they are used only\n",
        "\t# for simplicity of the program.\n",
        "\n",
        "\t# LCSuff is the table with zero\n",
        "\t# value initially in each cell\n",
        "\tLCSuff = [[0 for k in range(n+1)] for l in range(m+1)]\n",
        "\n",
        "\t# To store the length of\n",
        "\t# longest common substring\n",
        "\tresult = 0\n",
        "\n",
        "\t# Following steps to build\n",
        "\t# LCSuff[m+1][n+1] in bottom up fashion\n",
        "\tfor i in range(m + 1):\n",
        "\t\tfor j in range(n + 1):\n",
        "\t\t\tif (i == 0 or j == 0):\n",
        "\t\t\t\tLCSuff[i][j] = 0\n",
        "\t\t\telif (X[i-1] == Y[j-1]):\n",
        "\t\t\t\tLCSuff[i][j] = LCSuff[i-1][j-1] + 1\n",
        "\t\t\t\tresult = max(result, LCSuff[i][j])\n",
        "\t\t\telse:\n",
        "\t\t\t\tLCSuff[i][j] = 0\n",
        "\treturn result\n",
        "\n",
        "\n",
        "# Driver Code\n",
        "X = 'OldSite:GeeksforGeeks.org'\n",
        "Y = 'NewSite:GeeksQuiz.com'\n",
        "\n",
        "m = len(X)\n",
        "n = len(Y)\n",
        "\n",
        "print('Length of Longest Common Substring is',\n",
        "\tLCSubStr(X, Y, m, n))\n"
      ],
      "execution_count": 22,
      "outputs": [
        {
          "output_type": "stream",
          "text": [
            "Length of Longest Common Substring is 10\n"
          ],
          "name": "stdout"
        }
      ]
    },
    {
      "cell_type": "code",
      "metadata": {
        "id": "REz-TV7QMjTl"
      },
      "source": [
        ""
      ],
      "execution_count": null,
      "outputs": []
    }
  ]
}